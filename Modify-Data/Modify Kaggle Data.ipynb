{
 "cells": [
  {
   "cell_type": "code",
   "execution_count": 166,
   "metadata": {},
   "outputs": [],
   "source": [
    "import numpy as np\n",
    "import pandas as pd\n",
    "from os import walk\n",
    "import shutil\n",
    "from shutil import copyfile\n",
    "import random"
   ]
  },
  {
   "cell_type": "code",
   "execution_count": 2,
   "metadata": {},
   "outputs": [],
   "source": [
    "root = '/home/protik/Desktop/ML'\n",
    "csv_root = '/painter-by-numbers/all_data_info.csv'\n",
    "\n",
    "data_root = '{}{}'.format(root,csv_root)\n",
    "data = pd.read_csv(data_root)"
   ]
  },
  {
   "cell_type": "code",
   "execution_count": 3,
   "metadata": {},
   "outputs": [
    {
     "data": {
      "text/plain": [
       "(103250, 12)"
      ]
     },
     "execution_count": 3,
     "metadata": {},
     "output_type": "execute_result"
    }
   ],
   "source": [
    "data.shape"
   ]
  },
  {
   "cell_type": "code",
   "execution_count": 4,
   "metadata": {},
   "outputs": [
    {
     "data": {
      "text/plain": [
       "Index(['artist', 'date', 'genre', 'pixelsx', 'pixelsy', 'size_bytes', 'source',\n",
       "       'style', 'title', 'artist_group', 'in_train', 'new_filename'],\n",
       "      dtype='object')"
      ]
     },
     "execution_count": 4,
     "metadata": {},
     "output_type": "execute_result"
    }
   ],
   "source": [
    "data.columns"
   ]
  },
  {
   "cell_type": "code",
   "execution_count": 5,
   "metadata": {},
   "outputs": [],
   "source": [
    "express = []\n",
    "impress = []\n",
    "surreal = []"
   ]
  },
  {
   "cell_type": "code",
   "execution_count": 16,
   "metadata": {},
   "outputs": [],
   "source": [
    "keepers = ['Expressionism', 'Impressionism', 'Surrealism']"
   ]
  },
  {
   "cell_type": "code",
   "execution_count": 17,
   "metadata": {},
   "outputs": [
    {
     "data": {
      "text/html": [
       "<div>\n",
       "<style scoped>\n",
       "    .dataframe tbody tr th:only-of-type {\n",
       "        vertical-align: middle;\n",
       "    }\n",
       "\n",
       "    .dataframe tbody tr th {\n",
       "        vertical-align: top;\n",
       "    }\n",
       "\n",
       "    .dataframe thead th {\n",
       "        text-align: right;\n",
       "    }\n",
       "</style>\n",
       "<table border=\"1\" class=\"dataframe\">\n",
       "  <thead>\n",
       "    <tr style=\"text-align: right;\">\n",
       "      <th></th>\n",
       "      <th>artist</th>\n",
       "      <th>date</th>\n",
       "      <th>genre</th>\n",
       "      <th>pixelsx</th>\n",
       "      <th>pixelsy</th>\n",
       "      <th>size_bytes</th>\n",
       "      <th>source</th>\n",
       "      <th>style</th>\n",
       "      <th>title</th>\n",
       "      <th>artist_group</th>\n",
       "      <th>in_train</th>\n",
       "      <th>new_filename</th>\n",
       "    </tr>\n",
       "  </thead>\n",
       "  <tbody>\n",
       "    <tr>\n",
       "      <th>0</th>\n",
       "      <td>Barnett Newman</td>\n",
       "      <td>1955.0</td>\n",
       "      <td>abstract</td>\n",
       "      <td>15530.0</td>\n",
       "      <td>6911.0</td>\n",
       "      <td>9201912.0</td>\n",
       "      <td>wikiart</td>\n",
       "      <td>Color Field Painting</td>\n",
       "      <td>Uriel</td>\n",
       "      <td>train_only</td>\n",
       "      <td>True</td>\n",
       "      <td>102257.jpg</td>\n",
       "    </tr>\n",
       "    <tr>\n",
       "      <th>1</th>\n",
       "      <td>Barnett Newman</td>\n",
       "      <td>1950.0</td>\n",
       "      <td>abstract</td>\n",
       "      <td>14559.0</td>\n",
       "      <td>6866.0</td>\n",
       "      <td>8867532.0</td>\n",
       "      <td>wikiart</td>\n",
       "      <td>Color Field Painting</td>\n",
       "      <td>Vir Heroicus Sublimis</td>\n",
       "      <td>train_only</td>\n",
       "      <td>True</td>\n",
       "      <td>75232.jpg</td>\n",
       "    </tr>\n",
       "    <tr>\n",
       "      <th>2</th>\n",
       "      <td>kiri nichol</td>\n",
       "      <td>2013.0</td>\n",
       "      <td>NaN</td>\n",
       "      <td>9003.0</td>\n",
       "      <td>9004.0</td>\n",
       "      <td>1756681.0</td>\n",
       "      <td>NaN</td>\n",
       "      <td>Neoplasticism</td>\n",
       "      <td>NaN</td>\n",
       "      <td>test_only</td>\n",
       "      <td>False</td>\n",
       "      <td>32145.jpg</td>\n",
       "    </tr>\n",
       "    <tr>\n",
       "      <th>3</th>\n",
       "      <td>kiri nichol</td>\n",
       "      <td>2013.0</td>\n",
       "      <td>NaN</td>\n",
       "      <td>9003.0</td>\n",
       "      <td>9004.0</td>\n",
       "      <td>1942046.0</td>\n",
       "      <td>NaN</td>\n",
       "      <td>Neoplasticism</td>\n",
       "      <td>NaN</td>\n",
       "      <td>test_only</td>\n",
       "      <td>False</td>\n",
       "      <td>20304.jpg</td>\n",
       "    </tr>\n",
       "    <tr>\n",
       "      <th>4</th>\n",
       "      <td>kiri nichol</td>\n",
       "      <td>2013.0</td>\n",
       "      <td>NaN</td>\n",
       "      <td>9003.0</td>\n",
       "      <td>9004.0</td>\n",
       "      <td>1526212.0</td>\n",
       "      <td>NaN</td>\n",
       "      <td>Neoplasticism</td>\n",
       "      <td>NaN</td>\n",
       "      <td>test_only</td>\n",
       "      <td>False</td>\n",
       "      <td>836.jpg</td>\n",
       "    </tr>\n",
       "  </tbody>\n",
       "</table>\n",
       "</div>"
      ],
      "text/plain": [
       "           artist    date     genre  pixelsx  pixelsy  size_bytes   source  \\\n",
       "0  Barnett Newman  1955.0  abstract  15530.0   6911.0   9201912.0  wikiart   \n",
       "1  Barnett Newman  1950.0  abstract  14559.0   6866.0   8867532.0  wikiart   \n",
       "2     kiri nichol  2013.0       NaN   9003.0   9004.0   1756681.0      NaN   \n",
       "3     kiri nichol  2013.0       NaN   9003.0   9004.0   1942046.0      NaN   \n",
       "4     kiri nichol  2013.0       NaN   9003.0   9004.0   1526212.0      NaN   \n",
       "\n",
       "                  style                  title artist_group  in_train  \\\n",
       "0  Color Field Painting                  Uriel   train_only      True   \n",
       "1  Color Field Painting  Vir Heroicus Sublimis   train_only      True   \n",
       "2         Neoplasticism                    NaN    test_only     False   \n",
       "3         Neoplasticism                    NaN    test_only     False   \n",
       "4         Neoplasticism                    NaN    test_only     False   \n",
       "\n",
       "  new_filename  \n",
       "0   102257.jpg  \n",
       "1    75232.jpg  \n",
       "2    32145.jpg  \n",
       "3    20304.jpg  \n",
       "4      836.jpg  "
      ]
     },
     "execution_count": 17,
     "metadata": {},
     "output_type": "execute_result"
    }
   ],
   "source": [
    "data.head()"
   ]
  },
  {
   "cell_type": "code",
   "execution_count": 18,
   "metadata": {},
   "outputs": [
    {
     "data": {
      "text/plain": [
       "array(['Color Field Painting', 'Neoplasticism', 'Yamato-e', 'Ukiyo-e',\n",
       "       'Romanticism', 'Surrealism', 'Northern Renaissance', 'Cloisonnism',\n",
       "       'Abstract Art', 'Realism', 'Biedermeier', 'Symbolism', 'Baroque',\n",
       "       'Tenebrism', 'Cubism', 'Mannerism (Late Renaissance)',\n",
       "       'Pointillism', 'Rococo', 'High Renaissance', 'Fauvism', nan,\n",
       "       'Early Renaissance', 'Magic Realism', 'Classicism',\n",
       "       'Post-Impressionism', 'Art Nouveau (Modern)', 'Expressionism',\n",
       "       'Impressionism', 'Japonism', 'Neoclassicism',\n",
       "       'Contemporary Realism', 'Suprematism', 'Naïve Art (Primitivism)',\n",
       "       'Tachisme', 'Ink and wash painting', 'Orphism', 'Luminism',\n",
       "       'Neo-Rococo', 'Orientalism', 'Academicism', 'Tonalism', 'Op Art',\n",
       "       'Neo-Romanticism', 'Constructivism', 'Dada', 'Neo-Expressionism',\n",
       "       'Abstract Expressionism', 'Proto Renaissance',\n",
       "       'Lyrical Abstraction', 'Byzantine', 'Muralism', 'Art Informel',\n",
       "       'Analytical\\xa0Realism', 'Concretism', 'Art Brut', 'Pop Art',\n",
       "       'Safavid Period', 'Regionalism', 'Futurism', 'Romanesque',\n",
       "       'American Realism', 'Intimism', 'Synthetic Cubism', 'Gongbi',\n",
       "       'Metaphysical art', 'Socialist Realism', 'Miserablism',\n",
       "       'Shin-hanga', 'Social Realism', 'Post-Painterly Abstraction',\n",
       "       'Spatialism', 'Nanga (Bunjinga)', 'Tubism', 'Verism',\n",
       "       'Action painting', 'International Gothic', 'Purism', 'Naturalism',\n",
       "       'Synthetism', 'Art Deco', 'New Realism', 'Conceptual Art',\n",
       "       'Cubo-Futurism', 'Kitsch', 'Outsider art', 'Minimalism',\n",
       "       'Spectralism', 'Sōsaku hanga', 'Costumbrismo',\n",
       "       'Automatic Painting', 'Precisionism', 'Divisionism', 'Neo-baroque',\n",
       "       'Nouveau Réalisme', 'Neo-Dada', 'Indian Space painting',\n",
       "       'Mosan art', 'Hyper-Realism', 'Kinetic Art', 'Cubo-Expressionism',\n",
       "       'Poster Art Realism', 'Hard Edge Painting', 'Ottoman Period',\n",
       "       'Cartographic Art', 'Existential Art', 'Feminist Art', 'Lettrism',\n",
       "       'Zen', 'New European Painting', 'Nas-Taliq',\n",
       "       'Figurative Expressionism', 'Post-Minimalism', 'Primitivism',\n",
       "       'Nihonga', 'Fantastic Realism', 'Analytical Cubism', 'Gothic',\n",
       "       'Mechanistic Cubism', 'Photorealism', 'Timurid Period',\n",
       "       'Synchromism', 'Neo-Concretism', 'Rayonism', 'Perceptism ',\n",
       "       'Neo-Byzantine', 'Modernismo', 'Native Art', 'Ilkhanid',\n",
       "       'Light and Space', 'Mail Art', 'Joseon Dynasty',\n",
       "       'Neo-Figurative Art', 'Street art', 'Renaissance', 'New Casualism',\n",
       "       'Environmental (Land) Art', 'Transautomatism'], dtype=object)"
      ]
     },
     "execution_count": 18,
     "metadata": {},
     "output_type": "execute_result"
    }
   ],
   "source": [
    "data['style'].unique()"
   ]
  },
  {
   "cell_type": "code",
   "execution_count": 22,
   "metadata": {},
   "outputs": [],
   "source": [
    "df_details = data[data['style'].isin(keepers)]\n",
    "img_names = df_details['new_filename'].values\n",
    "img_style = df_details['style'].values"
   ]
  },
  {
   "cell_type": "code",
   "execution_count": 24,
   "metadata": {},
   "outputs": [
    {
     "name": "stdout",
     "output_type": "stream",
     "text": [
      "21823\n",
      "21823\n"
     ]
    }
   ],
   "source": [
    "print(img_names.size)\n",
    "print(img_style.size)"
   ]
  },
  {
   "cell_type": "code",
   "execution_count": 78,
   "metadata": {},
   "outputs": [],
   "source": [
    "table = [] "
   ]
  },
  {
   "cell_type": "code",
   "execution_count": 79,
   "metadata": {},
   "outputs": [
    {
     "data": {
      "text/plain": [
       "[]"
      ]
     },
     "execution_count": 79,
     "metadata": {},
     "output_type": "execute_result"
    }
   ],
   "source": [
    "table"
   ]
  },
  {
   "cell_type": "code",
   "execution_count": 80,
   "metadata": {},
   "outputs": [],
   "source": [
    "for i in range(0,21823):\n",
    "    x = [img_names[i],img_style[i]]\n",
    "    table.append(x)"
   ]
  },
  {
   "cell_type": "code",
   "execution_count": 82,
   "metadata": {},
   "outputs": [],
   "source": [
    "table = pd.DataFrame(table)"
   ]
  },
  {
   "cell_type": "code",
   "execution_count": 83,
   "metadata": {},
   "outputs": [
    {
     "data": {
      "text/html": [
       "<div>\n",
       "<style scoped>\n",
       "    .dataframe tbody tr th:only-of-type {\n",
       "        vertical-align: middle;\n",
       "    }\n",
       "\n",
       "    .dataframe tbody tr th {\n",
       "        vertical-align: top;\n",
       "    }\n",
       "\n",
       "    .dataframe thead th {\n",
       "        text-align: right;\n",
       "    }\n",
       "</style>\n",
       "<table border=\"1\" class=\"dataframe\">\n",
       "  <thead>\n",
       "    <tr style=\"text-align: right;\">\n",
       "      <th></th>\n",
       "      <th>0</th>\n",
       "      <th>1</th>\n",
       "    </tr>\n",
       "  </thead>\n",
       "  <tbody>\n",
       "    <tr>\n",
       "      <th>0</th>\n",
       "      <td>70944.jpg</td>\n",
       "      <td>Surrealism</td>\n",
       "    </tr>\n",
       "    <tr>\n",
       "      <th>1</th>\n",
       "      <td>31234.jpg</td>\n",
       "      <td>Expressionism</td>\n",
       "    </tr>\n",
       "    <tr>\n",
       "      <th>2</th>\n",
       "      <td>29616.jpg</td>\n",
       "      <td>Impressionism</td>\n",
       "    </tr>\n",
       "    <tr>\n",
       "      <th>3</th>\n",
       "      <td>65341.jpg</td>\n",
       "      <td>Expressionism</td>\n",
       "    </tr>\n",
       "    <tr>\n",
       "      <th>4</th>\n",
       "      <td>38383.jpg</td>\n",
       "      <td>Impressionism</td>\n",
       "    </tr>\n",
       "    <tr>\n",
       "      <th>5</th>\n",
       "      <td>51728.jpg</td>\n",
       "      <td>Expressionism</td>\n",
       "    </tr>\n",
       "    <tr>\n",
       "      <th>6</th>\n",
       "      <td>95360.jpg</td>\n",
       "      <td>Impressionism</td>\n",
       "    </tr>\n",
       "    <tr>\n",
       "      <th>7</th>\n",
       "      <td>82971.jpg</td>\n",
       "      <td>Expressionism</td>\n",
       "    </tr>\n",
       "    <tr>\n",
       "      <th>8</th>\n",
       "      <td>96372.jpg</td>\n",
       "      <td>Expressionism</td>\n",
       "    </tr>\n",
       "    <tr>\n",
       "      <th>9</th>\n",
       "      <td>73312.jpg</td>\n",
       "      <td>Surrealism</td>\n",
       "    </tr>\n",
       "    <tr>\n",
       "      <th>10</th>\n",
       "      <td>101495.jpg</td>\n",
       "      <td>Expressionism</td>\n",
       "    </tr>\n",
       "    <tr>\n",
       "      <th>11</th>\n",
       "      <td>49757.jpg</td>\n",
       "      <td>Impressionism</td>\n",
       "    </tr>\n",
       "    <tr>\n",
       "      <th>12</th>\n",
       "      <td>74191.jpg</td>\n",
       "      <td>Surrealism</td>\n",
       "    </tr>\n",
       "    <tr>\n",
       "      <th>13</th>\n",
       "      <td>53841.jpg</td>\n",
       "      <td>Impressionism</td>\n",
       "    </tr>\n",
       "    <tr>\n",
       "      <th>14</th>\n",
       "      <td>85018.jpg</td>\n",
       "      <td>Impressionism</td>\n",
       "    </tr>\n",
       "    <tr>\n",
       "      <th>15</th>\n",
       "      <td>1538.jpg</td>\n",
       "      <td>Surrealism</td>\n",
       "    </tr>\n",
       "    <tr>\n",
       "      <th>16</th>\n",
       "      <td>81912.jpg</td>\n",
       "      <td>Impressionism</td>\n",
       "    </tr>\n",
       "    <tr>\n",
       "      <th>17</th>\n",
       "      <td>17146.jpg</td>\n",
       "      <td>Impressionism</td>\n",
       "    </tr>\n",
       "    <tr>\n",
       "      <th>18</th>\n",
       "      <td>76134.jpg</td>\n",
       "      <td>Surrealism</td>\n",
       "    </tr>\n",
       "    <tr>\n",
       "      <th>19</th>\n",
       "      <td>66594.jpg</td>\n",
       "      <td>Impressionism</td>\n",
       "    </tr>\n",
       "    <tr>\n",
       "      <th>20</th>\n",
       "      <td>5241.jpg</td>\n",
       "      <td>Impressionism</td>\n",
       "    </tr>\n",
       "    <tr>\n",
       "      <th>21</th>\n",
       "      <td>8943.jpg</td>\n",
       "      <td>Impressionism</td>\n",
       "    </tr>\n",
       "    <tr>\n",
       "      <th>22</th>\n",
       "      <td>77236.jpg</td>\n",
       "      <td>Surrealism</td>\n",
       "    </tr>\n",
       "    <tr>\n",
       "      <th>23</th>\n",
       "      <td>22289.jpg</td>\n",
       "      <td>Impressionism</td>\n",
       "    </tr>\n",
       "    <tr>\n",
       "      <th>24</th>\n",
       "      <td>8250.jpg</td>\n",
       "      <td>Impressionism</td>\n",
       "    </tr>\n",
       "    <tr>\n",
       "      <th>25</th>\n",
       "      <td>99956.jpg</td>\n",
       "      <td>Impressionism</td>\n",
       "    </tr>\n",
       "    <tr>\n",
       "      <th>26</th>\n",
       "      <td>93353.jpg</td>\n",
       "      <td>Impressionism</td>\n",
       "    </tr>\n",
       "    <tr>\n",
       "      <th>27</th>\n",
       "      <td>55985.jpg</td>\n",
       "      <td>Surrealism</td>\n",
       "    </tr>\n",
       "    <tr>\n",
       "      <th>28</th>\n",
       "      <td>95477.jpg</td>\n",
       "      <td>Impressionism</td>\n",
       "    </tr>\n",
       "    <tr>\n",
       "      <th>29</th>\n",
       "      <td>71149.jpg</td>\n",
       "      <td>Impressionism</td>\n",
       "    </tr>\n",
       "    <tr>\n",
       "      <th>...</th>\n",
       "      <td>...</td>\n",
       "      <td>...</td>\n",
       "    </tr>\n",
       "    <tr>\n",
       "      <th>21793</th>\n",
       "      <td>42918.jpg</td>\n",
       "      <td>Surrealism</td>\n",
       "    </tr>\n",
       "    <tr>\n",
       "      <th>21794</th>\n",
       "      <td>18314.jpg</td>\n",
       "      <td>Expressionism</td>\n",
       "    </tr>\n",
       "    <tr>\n",
       "      <th>21795</th>\n",
       "      <td>17521.jpg</td>\n",
       "      <td>Surrealism</td>\n",
       "    </tr>\n",
       "    <tr>\n",
       "      <th>21796</th>\n",
       "      <td>15524.jpg</td>\n",
       "      <td>Surrealism</td>\n",
       "    </tr>\n",
       "    <tr>\n",
       "      <th>21797</th>\n",
       "      <td>70170.jpg</td>\n",
       "      <td>Expressionism</td>\n",
       "    </tr>\n",
       "    <tr>\n",
       "      <th>21798</th>\n",
       "      <td>73267.jpg</td>\n",
       "      <td>Surrealism</td>\n",
       "    </tr>\n",
       "    <tr>\n",
       "      <th>21799</th>\n",
       "      <td>50998.jpg</td>\n",
       "      <td>Impressionism</td>\n",
       "    </tr>\n",
       "    <tr>\n",
       "      <th>21800</th>\n",
       "      <td>12339.jpg</td>\n",
       "      <td>Expressionism</td>\n",
       "    </tr>\n",
       "    <tr>\n",
       "      <th>21801</th>\n",
       "      <td>2854.jpg</td>\n",
       "      <td>Impressionism</td>\n",
       "    </tr>\n",
       "    <tr>\n",
       "      <th>21802</th>\n",
       "      <td>52460.jpg</td>\n",
       "      <td>Expressionism</td>\n",
       "    </tr>\n",
       "    <tr>\n",
       "      <th>21803</th>\n",
       "      <td>10482.jpg</td>\n",
       "      <td>Expressionism</td>\n",
       "    </tr>\n",
       "    <tr>\n",
       "      <th>21804</th>\n",
       "      <td>40230.jpg</td>\n",
       "      <td>Surrealism</td>\n",
       "    </tr>\n",
       "    <tr>\n",
       "      <th>21805</th>\n",
       "      <td>66933.jpg</td>\n",
       "      <td>Expressionism</td>\n",
       "    </tr>\n",
       "    <tr>\n",
       "      <th>21806</th>\n",
       "      <td>25154.jpg</td>\n",
       "      <td>Impressionism</td>\n",
       "    </tr>\n",
       "    <tr>\n",
       "      <th>21807</th>\n",
       "      <td>89799.jpg</td>\n",
       "      <td>Surrealism</td>\n",
       "    </tr>\n",
       "    <tr>\n",
       "      <th>21808</th>\n",
       "      <td>90036.jpg</td>\n",
       "      <td>Expressionism</td>\n",
       "    </tr>\n",
       "    <tr>\n",
       "      <th>21809</th>\n",
       "      <td>70646.jpg</td>\n",
       "      <td>Expressionism</td>\n",
       "    </tr>\n",
       "    <tr>\n",
       "      <th>21810</th>\n",
       "      <td>48814.jpg</td>\n",
       "      <td>Expressionism</td>\n",
       "    </tr>\n",
       "    <tr>\n",
       "      <th>21811</th>\n",
       "      <td>100684.jpg</td>\n",
       "      <td>Expressionism</td>\n",
       "    </tr>\n",
       "    <tr>\n",
       "      <th>21812</th>\n",
       "      <td>69237.jpg</td>\n",
       "      <td>Expressionism</td>\n",
       "    </tr>\n",
       "    <tr>\n",
       "      <th>21813</th>\n",
       "      <td>72990.jpg</td>\n",
       "      <td>Impressionism</td>\n",
       "    </tr>\n",
       "    <tr>\n",
       "      <th>21814</th>\n",
       "      <td>92911.jpg</td>\n",
       "      <td>Expressionism</td>\n",
       "    </tr>\n",
       "    <tr>\n",
       "      <th>21815</th>\n",
       "      <td>66007.jpg</td>\n",
       "      <td>Expressionism</td>\n",
       "    </tr>\n",
       "    <tr>\n",
       "      <th>21816</th>\n",
       "      <td>99690.jpg</td>\n",
       "      <td>Surrealism</td>\n",
       "    </tr>\n",
       "    <tr>\n",
       "      <th>21817</th>\n",
       "      <td>93386.jpg</td>\n",
       "      <td>Surrealism</td>\n",
       "    </tr>\n",
       "    <tr>\n",
       "      <th>21818</th>\n",
       "      <td>76082.jpg</td>\n",
       "      <td>Expressionism</td>\n",
       "    </tr>\n",
       "    <tr>\n",
       "      <th>21819</th>\n",
       "      <td>86325.jpg</td>\n",
       "      <td>Surrealism</td>\n",
       "    </tr>\n",
       "    <tr>\n",
       "      <th>21820</th>\n",
       "      <td>85070.jpg</td>\n",
       "      <td>Surrealism</td>\n",
       "    </tr>\n",
       "    <tr>\n",
       "      <th>21821</th>\n",
       "      <td>24316.jpg</td>\n",
       "      <td>Impressionism</td>\n",
       "    </tr>\n",
       "    <tr>\n",
       "      <th>21822</th>\n",
       "      <td>7680.jpg</td>\n",
       "      <td>Surrealism</td>\n",
       "    </tr>\n",
       "  </tbody>\n",
       "</table>\n",
       "<p>21823 rows × 2 columns</p>\n",
       "</div>"
      ],
      "text/plain": [
       "                0              1\n",
       "0       70944.jpg     Surrealism\n",
       "1       31234.jpg  Expressionism\n",
       "2       29616.jpg  Impressionism\n",
       "3       65341.jpg  Expressionism\n",
       "4       38383.jpg  Impressionism\n",
       "5       51728.jpg  Expressionism\n",
       "6       95360.jpg  Impressionism\n",
       "7       82971.jpg  Expressionism\n",
       "8       96372.jpg  Expressionism\n",
       "9       73312.jpg     Surrealism\n",
       "10     101495.jpg  Expressionism\n",
       "11      49757.jpg  Impressionism\n",
       "12      74191.jpg     Surrealism\n",
       "13      53841.jpg  Impressionism\n",
       "14      85018.jpg  Impressionism\n",
       "15       1538.jpg     Surrealism\n",
       "16      81912.jpg  Impressionism\n",
       "17      17146.jpg  Impressionism\n",
       "18      76134.jpg     Surrealism\n",
       "19      66594.jpg  Impressionism\n",
       "20       5241.jpg  Impressionism\n",
       "21       8943.jpg  Impressionism\n",
       "22      77236.jpg     Surrealism\n",
       "23      22289.jpg  Impressionism\n",
       "24       8250.jpg  Impressionism\n",
       "25      99956.jpg  Impressionism\n",
       "26      93353.jpg  Impressionism\n",
       "27      55985.jpg     Surrealism\n",
       "28      95477.jpg  Impressionism\n",
       "29      71149.jpg  Impressionism\n",
       "...           ...            ...\n",
       "21793   42918.jpg     Surrealism\n",
       "21794   18314.jpg  Expressionism\n",
       "21795   17521.jpg     Surrealism\n",
       "21796   15524.jpg     Surrealism\n",
       "21797   70170.jpg  Expressionism\n",
       "21798   73267.jpg     Surrealism\n",
       "21799   50998.jpg  Impressionism\n",
       "21800   12339.jpg  Expressionism\n",
       "21801    2854.jpg  Impressionism\n",
       "21802   52460.jpg  Expressionism\n",
       "21803   10482.jpg  Expressionism\n",
       "21804   40230.jpg     Surrealism\n",
       "21805   66933.jpg  Expressionism\n",
       "21806   25154.jpg  Impressionism\n",
       "21807   89799.jpg     Surrealism\n",
       "21808   90036.jpg  Expressionism\n",
       "21809   70646.jpg  Expressionism\n",
       "21810   48814.jpg  Expressionism\n",
       "21811  100684.jpg  Expressionism\n",
       "21812   69237.jpg  Expressionism\n",
       "21813   72990.jpg  Impressionism\n",
       "21814   92911.jpg  Expressionism\n",
       "21815   66007.jpg  Expressionism\n",
       "21816   99690.jpg     Surrealism\n",
       "21817   93386.jpg     Surrealism\n",
       "21818   76082.jpg  Expressionism\n",
       "21819   86325.jpg     Surrealism\n",
       "21820   85070.jpg     Surrealism\n",
       "21821   24316.jpg  Impressionism\n",
       "21822    7680.jpg     Surrealism\n",
       "\n",
       "[21823 rows x 2 columns]"
      ]
     },
     "execution_count": 83,
     "metadata": {},
     "output_type": "execute_result"
    }
   ],
   "source": [
    "table"
   ]
  },
  {
   "cell_type": "code",
   "execution_count": 85,
   "metadata": {},
   "outputs": [],
   "source": [
    "my_columns = [\"file\", \"style\"]\n",
    "table.columns = my_columns"
   ]
  },
  {
   "cell_type": "code",
   "execution_count": 94,
   "metadata": {},
   "outputs": [
    {
     "data": {
      "text/html": [
       "<div>\n",
       "<style scoped>\n",
       "    .dataframe tbody tr th:only-of-type {\n",
       "        vertical-align: middle;\n",
       "    }\n",
       "\n",
       "    .dataframe tbody tr th {\n",
       "        vertical-align: top;\n",
       "    }\n",
       "\n",
       "    .dataframe thead th {\n",
       "        text-align: right;\n",
       "    }\n",
       "</style>\n",
       "<table border=\"1\" class=\"dataframe\">\n",
       "  <thead>\n",
       "    <tr style=\"text-align: right;\">\n",
       "      <th></th>\n",
       "      <th>file</th>\n",
       "      <th>style</th>\n",
       "    </tr>\n",
       "  </thead>\n",
       "  <tbody>\n",
       "    <tr>\n",
       "      <th>0</th>\n",
       "      <td>70944.jpg</td>\n",
       "      <td>Surrealism</td>\n",
       "    </tr>\n",
       "    <tr>\n",
       "      <th>1</th>\n",
       "      <td>31234.jpg</td>\n",
       "      <td>Expressionism</td>\n",
       "    </tr>\n",
       "    <tr>\n",
       "      <th>2</th>\n",
       "      <td>29616.jpg</td>\n",
       "      <td>Impressionism</td>\n",
       "    </tr>\n",
       "    <tr>\n",
       "      <th>3</th>\n",
       "      <td>65341.jpg</td>\n",
       "      <td>Expressionism</td>\n",
       "    </tr>\n",
       "    <tr>\n",
       "      <th>4</th>\n",
       "      <td>38383.jpg</td>\n",
       "      <td>Impressionism</td>\n",
       "    </tr>\n",
       "    <tr>\n",
       "      <th>5</th>\n",
       "      <td>51728.jpg</td>\n",
       "      <td>Expressionism</td>\n",
       "    </tr>\n",
       "    <tr>\n",
       "      <th>6</th>\n",
       "      <td>95360.jpg</td>\n",
       "      <td>Impressionism</td>\n",
       "    </tr>\n",
       "    <tr>\n",
       "      <th>7</th>\n",
       "      <td>82971.jpg</td>\n",
       "      <td>Expressionism</td>\n",
       "    </tr>\n",
       "    <tr>\n",
       "      <th>8</th>\n",
       "      <td>96372.jpg</td>\n",
       "      <td>Expressionism</td>\n",
       "    </tr>\n",
       "    <tr>\n",
       "      <th>9</th>\n",
       "      <td>73312.jpg</td>\n",
       "      <td>Surrealism</td>\n",
       "    </tr>\n",
       "  </tbody>\n",
       "</table>\n",
       "</div>"
      ],
      "text/plain": [
       "        file          style\n",
       "0  70944.jpg     Surrealism\n",
       "1  31234.jpg  Expressionism\n",
       "2  29616.jpg  Impressionism\n",
       "3  65341.jpg  Expressionism\n",
       "4  38383.jpg  Impressionism\n",
       "5  51728.jpg  Expressionism\n",
       "6  95360.jpg  Impressionism\n",
       "7  82971.jpg  Expressionism\n",
       "8  96372.jpg  Expressionism\n",
       "9  73312.jpg     Surrealism"
      ]
     },
     "execution_count": 94,
     "metadata": {},
     "output_type": "execute_result"
    }
   ],
   "source": [
    "table.head(10)"
   ]
  },
  {
   "cell_type": "code",
   "execution_count": 95,
   "metadata": {},
   "outputs": [
    {
     "data": {
      "text/plain": [
       "0    70944.jpg\n",
       "1    31234.jpg\n",
       "2    29616.jpg\n",
       "3    65341.jpg\n",
       "4    38383.jpg\n",
       "5    51728.jpg\n",
       "6    95360.jpg\n",
       "7    82971.jpg\n",
       "8    96372.jpg\n",
       "9    73312.jpg\n",
       "Name: file, dtype: object"
      ]
     },
     "execution_count": 95,
     "metadata": {},
     "output_type": "execute_result"
    }
   ],
   "source": [
    "table['file'].head(10)"
   ]
  },
  {
   "cell_type": "code",
   "execution_count": 96,
   "metadata": {},
   "outputs": [
    {
     "data": {
      "text/plain": [
       "0       Surrealism\n",
       "1    Expressionism\n",
       "2    Impressionism\n",
       "3    Expressionism\n",
       "4    Impressionism\n",
       "5    Expressionism\n",
       "6    Impressionism\n",
       "7    Expressionism\n",
       "8    Expressionism\n",
       "9       Surrealism\n",
       "Name: style, dtype: object"
      ]
     },
     "execution_count": 96,
     "metadata": {},
     "output_type": "execute_result"
    }
   ],
   "source": [
    "table['style'].head(10)"
   ]
  },
  {
   "cell_type": "code",
   "execution_count": 111,
   "metadata": {},
   "outputs": [],
   "source": [
    "for row in table.iterrows():\n",
    "    if row[1]['style'] == 'Impressionism':\n",
    "        impress.append(row[1]['file'])\n",
    "    elif row[1]['style'] == 'Expressionism':\n",
    "        express.append(row[1]['file'])\n",
    "    elif row[1]['style'] == 'Surrealism':\n",
    "        surreal.append(row[1]['file'])"
   ]
  },
  {
   "cell_type": "code",
   "execution_count": 112,
   "metadata": {},
   "outputs": [
    {
     "name": "stdout",
     "output_type": "stream",
     "text": [
      "10643\n",
      "7013\n",
      "4167\n"
     ]
    }
   ],
   "source": [
    "print(len(impress))\n",
    "print(len(express))\n",
    "print(len(surreal))"
   ]
  },
  {
   "cell_type": "code",
   "execution_count": 119,
   "metadata": {},
   "outputs": [],
   "source": [
    "file_im = '/painter-by-numbers/impression_list.txt' \n",
    "file_ex = '/painter-by-numbers/expression_list.txt' \n",
    "file_su = '/painter-by-numbers/surrealism_list.txt'"
   ]
  },
  {
   "cell_type": "code",
   "execution_count": 120,
   "metadata": {},
   "outputs": [],
   "source": [
    "file_root = '{}{}'.format(root,file_im)\n",
    "\n",
    "f = open(file_root, \"a\")\n",
    "\n",
    "for i in range(0,len(impress)):\n",
    "    s = str(impress[i])\n",
    "    f.write(s+'\\n')\n",
    "f.close()"
   ]
  },
  {
   "cell_type": "code",
   "execution_count": 121,
   "metadata": {},
   "outputs": [],
   "source": [
    "file_root = '{}{}'.format(root,file_ex)\n",
    "\n",
    "f = open(file_root, \"a\")\n",
    "\n",
    "for i in range(0,len(express)):\n",
    "    s = str(express[i])\n",
    "    f.write(s+'\\n')\n",
    "f.close()"
   ]
  },
  {
   "cell_type": "code",
   "execution_count": 122,
   "metadata": {},
   "outputs": [],
   "source": [
    "file_root = '{}{}'.format(root,file_su)\n",
    "\n",
    "f = open(file_root, \"a\")\n",
    "\n",
    "for i in range(0,len(surreal)):\n",
    "    s = str(surreal[i])\n",
    "    f.write(s+'\\n')\n",
    "f.close()"
   ]
  },
  {
   "cell_type": "code",
   "execution_count": 131,
   "metadata": {},
   "outputs": [],
   "source": [
    "files = []\n",
    "\n",
    "mypath = '{}{}'.format(root,'/painter-by-numbers/train_1')\n",
    "\n",
    "for (dirpath, dirnames, filenames) in walk(mypath):\n",
    "    files.extend(filenames)\n",
    "    break"
   ]
  },
  {
   "cell_type": "code",
   "execution_count": 133,
   "metadata": {},
   "outputs": [
    {
     "data": {
      "text/plain": [
       "11025"
      ]
     },
     "execution_count": 133,
     "metadata": {},
     "output_type": "execute_result"
    }
   ],
   "source": [
    "len(files)"
   ]
  },
  {
   "cell_type": "code",
   "execution_count": 141,
   "metadata": {},
   "outputs": [],
   "source": [
    "current_path = '{}{}'.format(root,'/painter-by-numbers/train_1/')\n",
    "destination_path = '{}{}'.format(root,'/data_kaggle/')\n",
    "\n",
    "for f in files:\n",
    "    if f in impress:\n",
    "        shutil.move('{}{}'.format(current_path,str(f)), '{}{}{}'.format(destination_path,'impress/',str(f)))\n",
    "    elif f in express:\n",
    "        shutil.move('{}{}'.format(current_path,str(f)), '{}{}{}'.format(destination_path,'express/',str(f)))\n",
    "    elif f in surreal:\n",
    "        shutil.move('{}{}'.format(current_path,str(f)), '{}{}{}'.format(destination_path,'surreal/',str(f)))"
   ]
  },
  {
   "cell_type": "code",
   "execution_count": 142,
   "metadata": {},
   "outputs": [],
   "source": [
    "files = []\n",
    "\n",
    "mypath = '{}{}'.format(root,'/painter-by-numbers/train_2')\n",
    "\n",
    "for (dirpath, dirnames, filenames) in walk(mypath):\n",
    "    files.extend(filenames)\n",
    "    break"
   ]
  },
  {
   "cell_type": "code",
   "execution_count": 143,
   "metadata": {},
   "outputs": [
    {
     "data": {
      "text/plain": [
       "8476"
      ]
     },
     "execution_count": 143,
     "metadata": {},
     "output_type": "execute_result"
    }
   ],
   "source": [
    "len(files)"
   ]
  },
  {
   "cell_type": "code",
   "execution_count": 144,
   "metadata": {},
   "outputs": [],
   "source": [
    "current_path = '{}{}'.format(root,'/painter-by-numbers/train_2/')\n",
    "destination_path = '{}{}'.format(root,'/data_kaggle/')\n",
    "\n",
    "for f in files:\n",
    "    if f in impress:\n",
    "        shutil.move('{}{}'.format(current_path,str(f)), '{}{}{}'.format(destination_path,'impress/',str(f)))\n",
    "    elif f in express:\n",
    "        shutil.move('{}{}'.format(current_path,str(f)), '{}{}{}'.format(destination_path,'express/',str(f)))\n",
    "    elif f in surreal:\n",
    "        shutil.move('{}{}'.format(current_path,str(f)), '{}{}{}'.format(destination_path,'surreal/',str(f)))"
   ]
  },
  {
   "cell_type": "code",
   "execution_count": 145,
   "metadata": {},
   "outputs": [
    {
     "name": "stdout",
     "output_type": "stream",
     "text": [
      "8531\n"
     ]
    }
   ],
   "source": [
    "files = []\n",
    "\n",
    "mypath = '{}{}'.format(root,'/painter-by-numbers/train_3')\n",
    "\n",
    "for (dirpath, dirnames, filenames) in walk(mypath):\n",
    "    files.extend(filenames)\n",
    "    break\n",
    "\n",
    "print(len(files))\n",
    "\n",
    "current_path = '{}{}'.format(root,'/painter-by-numbers/train_3/')\n",
    "destination_path = '{}{}'.format(root,'/data_kaggle/')\n",
    "\n",
    "for f in files:\n",
    "    if f in impress:\n",
    "        shutil.move('{}{}'.format(current_path,str(f)), '{}{}{}'.format(destination_path,'impress/',str(f)))\n",
    "    elif f in express:\n",
    "        shutil.move('{}{}'.format(current_path,str(f)), '{}{}{}'.format(destination_path,'express/',str(f)))\n",
    "    elif f in surreal:\n",
    "        shutil.move('{}{}'.format(current_path,str(f)), '{}{}{}'.format(destination_path,'surreal/',str(f)))"
   ]
  },
  {
   "cell_type": "code",
   "execution_count": 146,
   "metadata": {},
   "outputs": [
    {
     "name": "stdout",
     "output_type": "stream",
     "text": [
      "8607\n"
     ]
    }
   ],
   "source": [
    "files = []\n",
    "\n",
    "mypath = '{}{}'.format(root,'/painter-by-numbers/train_4')\n",
    "\n",
    "for (dirpath, dirnames, filenames) in walk(mypath):\n",
    "    files.extend(filenames)\n",
    "    break\n",
    "\n",
    "print(len(files))\n",
    "\n",
    "current_path = '{}{}'.format(root,'/painter-by-numbers/train_4/')\n",
    "destination_path = '{}{}'.format(root,'/data_kaggle/')\n",
    "\n",
    "for f in files:\n",
    "    if f in impress:\n",
    "        shutil.move('{}{}'.format(current_path,str(f)), '{}{}{}'.format(destination_path,'impress/',str(f)))\n",
    "    elif f in express:\n",
    "        shutil.move('{}{}'.format(current_path,str(f)), '{}{}{}'.format(destination_path,'express/',str(f)))\n",
    "    elif f in surreal:\n",
    "        shutil.move('{}{}'.format(current_path,str(f)), '{}{}{}'.format(destination_path,'surreal/',str(f)))"
   ]
  },
  {
   "cell_type": "code",
   "execution_count": 147,
   "metadata": {},
   "outputs": [
    {
     "name": "stdout",
     "output_type": "stream",
     "text": [
      "8564\n"
     ]
    }
   ],
   "source": [
    "files = []\n",
    "\n",
    "mypath = '{}{}'.format(root,'/painter-by-numbers/train_5')\n",
    "\n",
    "for (dirpath, dirnames, filenames) in walk(mypath):\n",
    "    files.extend(filenames)\n",
    "    break\n",
    "\n",
    "print(len(files))\n",
    "\n",
    "current_path = '{}{}'.format(root,'/painter-by-numbers/train_5/')\n",
    "destination_path = '{}{}'.format(root,'/data_kaggle/')\n",
    "\n",
    "for f in files:\n",
    "    if f in impress:\n",
    "        shutil.move('{}{}'.format(current_path,str(f)), '{}{}{}'.format(destination_path,'impress/',str(f)))\n",
    "    elif f in express:\n",
    "        shutil.move('{}{}'.format(current_path,str(f)), '{}{}{}'.format(destination_path,'express/',str(f)))\n",
    "    elif f in surreal:\n",
    "        shutil.move('{}{}'.format(current_path,str(f)), '{}{}{}'.format(destination_path,'surreal/',str(f)))"
   ]
  },
  {
   "cell_type": "code",
   "execution_count": 148,
   "metadata": {},
   "outputs": [
    {
     "name": "stdout",
     "output_type": "stream",
     "text": [
      "8585\n"
     ]
    }
   ],
   "source": [
    "files = []\n",
    "\n",
    "mypath = '{}{}'.format(root,'/painter-by-numbers/train_6')\n",
    "\n",
    "for (dirpath, dirnames, filenames) in walk(mypath):\n",
    "    files.extend(filenames)\n",
    "    break\n",
    "\n",
    "print(len(files))\n",
    "\n",
    "current_path = '{}{}'.format(root,'/painter-by-numbers/train_6/')\n",
    "destination_path = '{}{}'.format(root,'/data_kaggle/')\n",
    "\n",
    "for f in files:\n",
    "    if f in impress:\n",
    "        shutil.move('{}{}'.format(current_path,str(f)), '{}{}{}'.format(destination_path,'impress/',str(f)))\n",
    "    elif f in express:\n",
    "        shutil.move('{}{}'.format(current_path,str(f)), '{}{}{}'.format(destination_path,'express/',str(f)))\n",
    "    elif f in surreal:\n",
    "        shutil.move('{}{}'.format(current_path,str(f)), '{}{}{}'.format(destination_path,'surreal/',str(f)))"
   ]
  },
  {
   "cell_type": "code",
   "execution_count": 149,
   "metadata": {},
   "outputs": [
    {
     "name": "stdout",
     "output_type": "stream",
     "text": [
      "8602\n"
     ]
    }
   ],
   "source": [
    "files = []\n",
    "\n",
    "mypath = '{}{}'.format(root,'/painter-by-numbers/train_7')\n",
    "\n",
    "for (dirpath, dirnames, filenames) in walk(mypath):\n",
    "    files.extend(filenames)\n",
    "    break\n",
    "\n",
    "print(len(files))\n",
    "\n",
    "current_path = '{}{}'.format(root,'/painter-by-numbers/train_7/')\n",
    "destination_path = '{}{}'.format(root,'/data_kaggle/')\n",
    "\n",
    "for f in files:\n",
    "    if f in impress:\n",
    "        shutil.move('{}{}'.format(current_path,str(f)), '{}{}{}'.format(destination_path,'impress/',str(f)))\n",
    "    elif f in express:\n",
    "        shutil.move('{}{}'.format(current_path,str(f)), '{}{}{}'.format(destination_path,'express/',str(f)))\n",
    "    elif f in surreal:\n",
    "        shutil.move('{}{}'.format(current_path,str(f)), '{}{}{}'.format(destination_path,'surreal/',str(f)))"
   ]
  },
  {
   "cell_type": "code",
   "execution_count": 150,
   "metadata": {},
   "outputs": [
    {
     "name": "stdout",
     "output_type": "stream",
     "text": [
      "8552\n"
     ]
    }
   ],
   "source": [
    "files = []\n",
    "\n",
    "mypath = '{}{}'.format(root,'/painter-by-numbers/train_8')\n",
    "\n",
    "for (dirpath, dirnames, filenames) in walk(mypath):\n",
    "    files.extend(filenames)\n",
    "    break\n",
    "\n",
    "print(len(files))\n",
    "\n",
    "current_path = '{}{}'.format(root,'/painter-by-numbers/train_8/')\n",
    "destination_path = '{}{}'.format(root,'/data_kaggle/')\n",
    "\n",
    "for f in files:\n",
    "    if f in impress:\n",
    "        shutil.move('{}{}'.format(current_path,str(f)), '{}{}{}'.format(destination_path,'impress/',str(f)))\n",
    "    elif f in express:\n",
    "        shutil.move('{}{}'.format(current_path,str(f)), '{}{}{}'.format(destination_path,'express/',str(f)))\n",
    "    elif f in surreal:\n",
    "        shutil.move('{}{}'.format(current_path,str(f)), '{}{}{}'.format(destination_path,'surreal/',str(f)))"
   ]
  },
  {
   "cell_type": "code",
   "execution_count": 151,
   "metadata": {},
   "outputs": [
    {
     "name": "stdout",
     "output_type": "stream",
     "text": [
      "8491\n"
     ]
    }
   ],
   "source": [
    "files = []\n",
    "\n",
    "mypath = '{}{}'.format(root,'/painter-by-numbers/train_9')\n",
    "\n",
    "for (dirpath, dirnames, filenames) in walk(mypath):\n",
    "    files.extend(filenames)\n",
    "    break\n",
    "\n",
    "print(len(files))\n",
    "\n",
    "current_path = '{}{}'.format(root,'/painter-by-numbers/train_9/')\n",
    "destination_path = '{}{}'.format(root,'/data_kaggle/')\n",
    "\n",
    "for f in files:\n",
    "    if f in impress:\n",
    "        shutil.move('{}{}'.format(current_path,str(f)), '{}{}{}'.format(destination_path,'impress/',str(f)))\n",
    "    elif f in express:\n",
    "        shutil.move('{}{}'.format(current_path,str(f)), '{}{}{}'.format(destination_path,'express/',str(f)))\n",
    "    elif f in surreal:\n",
    "        shutil.move('{}{}'.format(current_path,str(f)), '{}{}{}'.format(destination_path,'surreal/',str(f)))"
   ]
  },
  {
   "cell_type": "code",
   "execution_count": 152,
   "metadata": {},
   "outputs": [
    {
     "name": "stdout",
     "output_type": "stream",
     "text": [
      "23817\n"
     ]
    }
   ],
   "source": [
    "files = []\n",
    "\n",
    "mypath = '{}{}'.format(root,'/painter-by-numbers/test')\n",
    "\n",
    "for (dirpath, dirnames, filenames) in walk(mypath):\n",
    "    files.extend(filenames)\n",
    "    break\n",
    "\n",
    "print(len(files))\n",
    "\n",
    "current_path = '{}{}'.format(root,'/painter-by-numbers/test/')\n",
    "destination_path = '/media/protik/Data/data_kaggle/'\n",
    "\n",
    "for f in files:\n",
    "    if f in impress:\n",
    "        shutil.move('{}{}'.format(current_path,str(f)), '{}{}{}'.format(destination_path,'impress/',str(f)))\n",
    "    elif f in express:\n",
    "        shutil.move('{}{}'.format(current_path,str(f)), '{}{}{}'.format(destination_path,'express/',str(f)))\n",
    "    elif f in surreal:\n",
    "        shutil.move('{}{}'.format(current_path,str(f)), '{}{}{}'.format(destination_path,'surreal/',str(f)))"
   ]
  },
  {
   "cell_type": "code",
   "execution_count": 157,
   "metadata": {},
   "outputs": [],
   "source": [
    "training_im = []\n",
    "training_ex = []\n",
    "training_su = []"
   ]
  },
  {
   "cell_type": "code",
   "execution_count": 158,
   "metadata": {},
   "outputs": [],
   "source": [
    "training_im = random.sample(impress, 500)\n",
    "training_ex = random.sample(express, 500)\n",
    "training_su = random.sample(surreal, 500)"
   ]
  },
  {
   "cell_type": "code",
   "execution_count": 160,
   "metadata": {},
   "outputs": [
    {
     "name": "stdout",
     "output_type": "stream",
     "text": [
      "500\n",
      "500\n",
      "500\n"
     ]
    }
   ],
   "source": [
    "print(len(training_im))\n",
    "print(len(training_ex))\n",
    "print(len(training_su))"
   ]
  },
  {
   "cell_type": "code",
   "execution_count": 165,
   "metadata": {},
   "outputs": [
    {
     "name": "stdout",
     "output_type": "stream",
     "text": [
      "500\n",
      "500\n",
      "500\n"
     ]
    }
   ],
   "source": [
    "x = set(training_im)\n",
    "print(len(x))\n",
    "x = set(training_ex)\n",
    "print(len(x))\n",
    "x = set(training_su)\n",
    "print(len(x))"
   ]
  },
  {
   "cell_type": "code",
   "execution_count": 174,
   "metadata": {},
   "outputs": [],
   "source": [
    "src = '/media/protik/Data/data_kaggle/express/'\n",
    "dst = '/media/protik/Data/ML-Kaggle/training_set/Expressionism/'\n",
    "\n",
    "for i in training_ex:\n",
    "    src1 = '{}{}'.format(src,str(i))\n",
    "    dst1 = '{}{}'.format(dst,str(i))\n",
    "    copyfile(src1, dst1)"
   ]
  },
  {
   "cell_type": "code",
   "execution_count": 176,
   "metadata": {},
   "outputs": [],
   "source": [
    "src = '/media/protik/Data/data_kaggle/impress/'\n",
    "dst = '/media/protik/Data/ML-Kaggle/training_set/Impressionism/'\n",
    "\n",
    "for i in training_im:\n",
    "    src1 = '{}{}'.format(src,str(i))\n",
    "    dst1 = '{}{}'.format(dst,str(i))\n",
    "    copyfile(src1, dst1)"
   ]
  },
  {
   "cell_type": "code",
   "execution_count": 177,
   "metadata": {},
   "outputs": [],
   "source": [
    "src = '/media/protik/Data/data_kaggle/surreal/'\n",
    "dst = '/media/protik/Data/ML-Kaggle/training_set/Surrealism/'\n",
    "\n",
    "for i in training_su:\n",
    "    src1 = '{}{}'.format(src,str(i))\n",
    "    dst1 = '{}{}'.format(dst,str(i))\n",
    "    copyfile(src1, dst1)"
   ]
  },
  {
   "cell_type": "code",
   "execution_count": 178,
   "metadata": {},
   "outputs": [],
   "source": [
    "test_ex = []\n",
    "test_im = []\n",
    "test_su = []"
   ]
  },
  {
   "cell_type": "code",
   "execution_count": 179,
   "metadata": {},
   "outputs": [],
   "source": [
    "test_ex = random.sample(training_ex, 100)\n",
    "test_im = random.sample(training_im, 100)\n",
    "test_su = random.sample(training_su, 100)"
   ]
  },
  {
   "cell_type": "code",
   "execution_count": 181,
   "metadata": {},
   "outputs": [
    {
     "name": "stdout",
     "output_type": "stream",
     "text": [
      "100\n",
      "100\n",
      "100\n"
     ]
    }
   ],
   "source": [
    "print(len(set(test_ex)))\n",
    "print(len(set(test_im)))\n",
    "print(len(set(test_su)))"
   ]
  },
  {
   "cell_type": "code",
   "execution_count": 182,
   "metadata": {},
   "outputs": [],
   "source": [
    "src = '/media/protik/Data/data_kaggle/express/'\n",
    "dst = '/media/protik/Data/ML-Kaggle/test_set/Expressionism/'\n",
    "\n",
    "for i in test_ex:\n",
    "    src1 = '{}{}'.format(src,str(i))\n",
    "    dst1 = '{}{}'.format(dst,str(i))\n",
    "    copyfile(src1, dst1)\n",
    "    \n",
    "src = '/media/protik/Data/data_kaggle/impress/'\n",
    "dst = '/media/protik/Data/ML-Kaggle/test_set/Impressionism/'\n",
    "\n",
    "for i in test_im:\n",
    "    src1 = '{}{}'.format(src,str(i))\n",
    "    dst1 = '{}{}'.format(dst,str(i))\n",
    "    copyfile(src1, dst1)\n",
    "    \n",
    "src = '/media/protik/Data/data_kaggle/surreal/'\n",
    "dst = '/media/protik/Data/ML-Kaggle/test_set/Surrealism/'\n",
    "\n",
    "for i in test_su:\n",
    "    src1 = '{}{}'.format(src,str(i))\n",
    "    dst1 = '{}{}'.format(dst,str(i))\n",
    "    copyfile(src1, dst1)"
   ]
  },
  {
   "cell_type": "code",
   "execution_count": 189,
   "metadata": {},
   "outputs": [],
   "source": [
    "unseen_ex = []\n",
    "unseen_im = []\n",
    "unseen_su = []"
   ]
  },
  {
   "cell_type": "code",
   "execution_count": 190,
   "metadata": {},
   "outputs": [
    {
     "name": "stdout",
     "output_type": "stream",
     "text": [
      "200\n",
      "200\n",
      "200\n",
      "200\n",
      "200\n",
      "200\n"
     ]
    }
   ],
   "source": [
    "# impress express surreal\n",
    "# training_im training_ex training_su\n",
    "\n",
    "for f in impress:\n",
    "    \n",
    "    if len(unseen_im) == 200:\n",
    "        break\n",
    "    \n",
    "    if f in training_im:\n",
    "        continue\n",
    "    elif random.randint(1,101) < 20:\n",
    "        unseen_im.append(f)\n",
    "        \n",
    "for f in express:\n",
    "    \n",
    "    if len(unseen_ex) == 200:\n",
    "        break\n",
    "    \n",
    "    if f in training_ex:\n",
    "        continue\n",
    "    elif random.randint(1,101) < 20:\n",
    "        unseen_ex.append(f)\n",
    "        \n",
    "for f in surreal:\n",
    "    \n",
    "    if len(unseen_su) == 200:\n",
    "        break\n",
    "    \n",
    "    if f in training_su:\n",
    "        continue\n",
    "    elif random.randint(1,101) < 20:\n",
    "        unseen_su.append(f)\n",
    "        \n",
    "print(len(unseen_im))\n",
    "print(len(unseen_ex))\n",
    "print(len(unseen_su))\n",
    "\n",
    "print(len(set(unseen_im)))\n",
    "print(len(set(unseen_ex)))\n",
    "print(len(set(unseen_su)))"
   ]
  },
  {
   "cell_type": "code",
   "execution_count": 191,
   "metadata": {},
   "outputs": [],
   "source": [
    "src = '/media/protik/Data/data_kaggle/express/'\n",
    "dst = '/media/protik/Data/ML-Kaggle/UnseenData/Expressionism/'\n",
    "\n",
    "for i in unseen_ex:\n",
    "    src1 = '{}{}'.format(src,str(i))\n",
    "    dst1 = '{}{}'.format(dst,str(i))\n",
    "    copyfile(src1, dst1)\n",
    "    \n",
    "src = '/media/protik/Data/data_kaggle/impress/'\n",
    "dst = '/media/protik/Data/ML-Kaggle/UnseenData/Impressionism/'\n",
    "\n",
    "for i in unseen_im:\n",
    "    src1 = '{}{}'.format(src,str(i))\n",
    "    dst1 = '{}{}'.format(dst,str(i))\n",
    "    copyfile(src1, dst1)\n",
    "    \n",
    "src = '/media/protik/Data/data_kaggle/surreal/'\n",
    "dst = '/media/protik/Data/ML-Kaggle/UnseenData/Surrealism/'\n",
    "\n",
    "for i in unseen_su:\n",
    "    src1 = '{}{}'.format(src,str(i))\n",
    "    dst1 = '{}{}'.format(dst,str(i))\n",
    "    copyfile(src1, dst1)"
   ]
  }
 ],
 "metadata": {
  "kernelspec": {
   "display_name": "Python 3",
   "language": "python",
   "name": "python3"
  },
  "language_info": {
   "codemirror_mode": {
    "name": "ipython",
    "version": 3
   },
   "file_extension": ".py",
   "mimetype": "text/x-python",
   "name": "python",
   "nbconvert_exporter": "python",
   "pygments_lexer": "ipython3",
   "version": "3.6.7"
  }
 },
 "nbformat": 4,
 "nbformat_minor": 2
}
