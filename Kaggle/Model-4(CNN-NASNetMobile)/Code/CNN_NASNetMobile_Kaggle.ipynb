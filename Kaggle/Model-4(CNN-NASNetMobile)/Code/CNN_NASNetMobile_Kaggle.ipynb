{
  "nbformat": 4,
  "nbformat_minor": 0,
  "metadata": {
    "colab": {
      "name": "CNN-NASNetLarge-Kaggle.ipynb",
      "version": "0.3.2",
      "provenance": []
    },
    "kernelspec": {
      "name": "python3",
      "display_name": "Python 3"
    },
    "accelerator": "GPU"
  },
  "cells": [
    {
      "cell_type": "markdown",
      "metadata": {
        "id": "SmxQagioCxMD",
        "colab_type": "text"
      },
      "source": [
        "# Connect to Google Drive"
      ]
    },
    {
      "cell_type": "code",
      "metadata": {
        "id": "eYXdiIepA8aK",
        "colab_type": "code",
        "outputId": "428a6446-de91-425e-d704-2b4c87239c23",
        "colab": {
          "base_uri": "https://localhost:8080/",
          "height": 224
        }
      },
      "source": [
        "#Step 1 part 1: connect to drive\n",
        "!apt-get install -y -qq software-properties-common python-software-properties module-init-tools\n",
        "!add-apt-repository -y ppa:alessandro-strada/ppa 2>&1 > /dev/null\n",
        "!apt-get update -qq 2>&1 > /dev/null\n",
        "!apt-get -y install -qq google-drive-ocamlfuse fuse\n",
        "from google.colab import auth\n",
        "auth.authenticate_user()\n",
        "from oauth2client.client import GoogleCredentials\n",
        "creds = GoogleCredentials.get_application_default()\n",
        "import getpass\n",
        "!google-drive-ocamlfuse -headless -id={creds.client_id} -secret={creds.client_secret} < /dev/null 2>&1 | grep URL\n",
        "vcode = getpass.getpass()\n",
        "!echo {vcode} | google-drive-ocamlfuse -headless -id={creds.client_id} -secret={creds.client_secret}"
      ],
      "execution_count": 0,
      "outputs": [
        {
          "output_type": "stream",
          "text": [
            "E: Package 'python-software-properties' has no installation candidate\n",
            "Selecting previously unselected package google-drive-ocamlfuse.\n",
            "(Reading database ... 130942 files and directories currently installed.)\n",
            "Preparing to unpack .../google-drive-ocamlfuse_0.7.4-0ubuntu1~ubuntu18.04.1_amd64.deb ...\n",
            "Unpacking google-drive-ocamlfuse (0.7.4-0ubuntu1~ubuntu18.04.1) ...\n",
            "Setting up google-drive-ocamlfuse (0.7.4-0ubuntu1~ubuntu18.04.1) ...\n",
            "Processing triggers for man-db (2.8.3-2ubuntu0.1) ...\n",
            "Please, open the following URL in a web browser: https://accounts.google.com/o/oauth2/auth?client_id=32555940559.apps.googleusercontent.com&redirect_uri=urn%3Aietf%3Awg%3Aoauth%3A2.0%3Aoob&scope=https%3A%2F%2Fwww.googleapis.com%2Fauth%2Fdrive&response_type=code&access_type=offline&approval_prompt=force\n",
            "··········\n",
            "Please, open the following URL in a web browser: https://accounts.google.com/o/oauth2/auth?client_id=32555940559.apps.googleusercontent.com&redirect_uri=urn%3Aietf%3Awg%3Aoauth%3A2.0%3Aoob&scope=https%3A%2F%2Fwww.googleapis.com%2Fauth%2Fdrive&response_type=code&access_type=offline&approval_prompt=force\n",
            "Please enter the verification code: Access token retrieved correctly.\n"
          ],
          "name": "stdout"
        }
      ]
    },
    {
      "cell_type": "code",
      "metadata": {
        "id": "vaGXCVDCC32h",
        "colab_type": "code",
        "colab": {}
      },
      "source": [
        "!mkdir -p drive\n",
        "!google-drive-ocamlfuse drive"
      ],
      "execution_count": 0,
      "outputs": []
    },
    {
      "cell_type": "markdown",
      "metadata": {
        "id": "gQj6eXFoDQDk",
        "colab_type": "text"
      },
      "source": [
        "# Train the model"
      ]
    },
    {
      "cell_type": "code",
      "metadata": {
        "id": "Ic0NaZzVDThM",
        "colab_type": "code",
        "outputId": "8a7743a2-de99-47f8-9758-67853dc76211",
        "colab": {
          "base_uri": "https://localhost:8080/",
          "height": 34
        }
      },
      "source": [
        "import numpy as np\n",
        "import pandas as pd\n",
        "from random import sample\n",
        "import pickle, cv2\n",
        "\n",
        "from matplotlib.pyplot import imread\n",
        "import matplotlib.pyplot as plt\n",
        "\n",
        "import sklearn\n",
        "from skimage.transform import resize\n",
        "from sklearn.model_selection import train_test_split\n",
        "from sklearn.metrics import confusion_matrix\n",
        "from sklearn.utils.multiclass import unique_labels\n",
        "from sklearn.utils.multiclass import type_of_target\n",
        "from sklearn.metrics import precision_recall_fscore_support\n",
        "from sklearn.metrics import roc_curve, auc\n",
        "from sklearn.metrics import roc_auc_score\n",
        "import sklearn.metrics as metrics\n",
        "\n",
        "from keras import applications, optimizers\n",
        "from keras.models import Sequential, Model\n",
        "from keras.layers import Dropout, Flatten, Dense\n",
        "from keras.utils import np_utils\n",
        "from keras.models import model_from_json\n",
        "from keras.models import load_model\n",
        "from keras.utils import plot_model\n",
        "\n",
        "import json"
      ],
      "execution_count": 0,
      "outputs": [
        {
          "output_type": "stream",
          "text": [
            "Using TensorFlow backend.\n"
          ],
          "name": "stderr"
        }
      ]
    },
    {
      "cell_type": "code",
      "metadata": {
        "id": "tDuHBDWHDWou",
        "colab_type": "code",
        "colab": {}
      },
      "source": [
        "def train_validation_split(x, y):\n",
        "    X_training, X_test, y_training, y_test = train_test_split(x, y, stratify=y, random_state=1337)\n",
        "    X_train, X_val, y_train, y_val = train_test_split(X_training, y_training, stratify=y_training, random_state=42)\n",
        "\n",
        "    return X_train, X_val, X_test, y_train, y_val, y_test"
      ],
      "execution_count": 0,
      "outputs": []
    },
    {
      "cell_type": "code",
      "metadata": {
        "id": "sDcCZgAQDZSw",
        "colab_type": "code",
        "colab": {}
      },
      "source": [
        "def one_hot(y_train, y_val, y_test, n_classes):\n",
        "    y_train = np_utils.to_categorical(y_train, n_classes)\n",
        "    y_val = np_utils.to_categorical(y_val, n_classes)\n",
        "    y_test = np_utils.to_categorical(y_test, n_classes)\n",
        "\n",
        "    return y_train, y_val, y_test"
      ],
      "execution_count": 0,
      "outputs": []
    },
    {
      "cell_type": "code",
      "metadata": {
        "id": "AP8wa4S9DbTG",
        "colab_type": "code",
        "colab": {}
      },
      "source": [
        "def build_fit_save_cnn(input_shape, n_classes, epochs, batch_size, X_train, X_val, y_train, y_val):\n",
        "    base_model = applications.NASNetMobile(weights='imagenet', include_top=False, input_shape=input_shape)\n",
        "\n",
        "    add_model = Sequential()\n",
        "    add_model.add(Flatten(input_shape=base_model.output_shape[1:]))\n",
        "    add_model.add(Dense(512, activation='relu'))\n",
        "    add_model.add(Dense(512, activation='relu'))\n",
        "    add_model.add(Dropout(0.25))\n",
        "    add_model.add(Dense(n_classes, activation='softmax'))\n",
        "\n",
        "    # combine base model and fully connected layers\n",
        "    final_model = Model(inputs=base_model.input, outputs=add_model(base_model.output))\n",
        "\n",
        "    # specify SDG optimizer parameters\n",
        "    sgd = optimizers.SGD(lr=0.001, decay=1e-6, momentum=0.9, nesterov=True)\n",
        "\n",
        "    # compile model\n",
        "    final_model.compile(loss='categorical_crossentropy', optimizer=sgd, metrics=['accuracy'])\n",
        "\n",
        "    history = final_model.fit(X_train, y_train, batch_size=batch_size, epochs=epochs, verbose=1, validation_data=(X_val, y_val))\n",
        "\n",
        "    score = final_model.evaluate(X_val, y_val, verbose=0)\n",
        "    print('Val. score:', score[0])\n",
        "    print('Val. accuracy:', score[1])\n",
        "    \n",
        "    plot_model(final_model, to_file='drive/ML-Kaggle/CNN-NASNetLarge-Kaggle-Model.svg')\n",
        "    show_history(history)\n",
        "    save_model(final_model,history)\n",
        "\n",
        "    return final_model"
      ],
      "execution_count": 0,
      "outputs": []
    },
    {
      "cell_type": "code",
      "metadata": {
        "id": "wGdrfpiQDoCf",
        "colab_type": "code",
        "colab": {}
      },
      "source": [
        "def test_predict_score(model, X_test, y_test):\n",
        "    score = model.evaluate(X_test, y_test, verbose=0)\n",
        "    test_pred = model.predict(X_test)\n",
        "\n",
        "    print('Test score:', score[0])\n",
        "    print('Test accuracy:', score[1])\n",
        "\n",
        "    return test_pred, score"
      ],
      "execution_count": 0,
      "outputs": []
    },
    {
      "cell_type": "code",
      "metadata": {
        "id": "kyIiFFUkDqvl",
        "colab_type": "code",
        "colab": {}
      },
      "source": [
        "def save_model(model,history):\n",
        "    \n",
        "    open('drive/ML-Kaggle/Saved_models/CNN-NASNetLarge-Kaggle.json', 'w').close()\n",
        "    open('drive/ML-Kaggle/Saved_models/CNN-NASNetLarge-Kaggle-weights.h5', 'w').close()\n",
        "    \n",
        "    model_json = model.to_json()\n",
        "    with open('drive/ML-Kaggle/Saved_models/CNN-NASNetLarge-Kaggle.json', 'w') as json_file:\n",
        "        json_file.write(model_json)\n",
        "\n",
        "    model.save_weights('drive/ML-Kaggle/Saved_models/CNN-NASNetLarge-Kaggle-weights.h5')\n",
        "    print('Model saved to disk!')\n",
        "    \n",
        "    with open('drive/ML-Kaggle/Data/CNN-NASNetLarge-Kaggle-History.json', 'w') as f:\n",
        "        json.dump(history.history, f)\n",
        "    print('History saved to disk!')"
      ],
      "execution_count": 0,
      "outputs": []
    },
    {
      "cell_type": "code",
      "metadata": {
        "id": "TnPBY_sZD7F2",
        "colab_type": "code",
        "colab": {}
      },
      "source": [
        "def show_history(history):\n",
        "    print(history.history.keys())\n",
        "\n",
        "    plt.plot(history.history['acc'])\n",
        "    plt.plot(history.history['val_acc'])\n",
        "    plt.title('model accuracy')\n",
        "    plt.ylabel('accuracy')\n",
        "    plt.xlabel('epoch')\n",
        "    plt.legend(['train', 'test'], loc='upper left')\n",
        "    plt.show()\n",
        "\n",
        "    plt.plot(history.history['loss'])\n",
        "    plt.plot(history.history['val_loss'])\n",
        "    plt.title('model loss')\n",
        "    plt.ylabel('loss')\n",
        "    plt.xlabel('epoch')\n",
        "    plt.legend(['train', 'test'], loc='upper left')\n",
        "    plt.show()"
      ],
      "execution_count": 0,
      "outputs": []
    },
    {
      "cell_type": "code",
      "metadata": {
        "id": "QyYvC5YD12xA",
        "colab_type": "code",
        "colab": {}
      },
      "source": [
        "def plot_confusion_matrix(y_true, y_pred, classes, normalize=False, title=None, cmap=plt.cm.Blues):\n",
        "    if not title:\n",
        "        if normalize:\n",
        "            title = 'Normalized confusion matrix'\n",
        "        else:\n",
        "            title = 'Confusion matrix, without normalization'\n",
        "\n",
        "    cm = confusion_matrix(y_true, y_pred)\n",
        "#     classes = classes[unique_labels(y_true, y_pred)]\n",
        "    \n",
        "    if normalize:\n",
        "        cm = cm.astype('float') / cm.sum(axis=1)[:, np.newaxis]\n",
        "        print(\"Normalized confusion matrix\")\n",
        "    else:\n",
        "        print('Confusion matrix, without normalization')\n",
        "\n",
        "    print(cm)\n",
        "\n",
        "    fig, ax = plt.subplots()\n",
        "    im = ax.imshow(cm, interpolation='nearest', cmap=cmap)\n",
        "\n",
        "    ax.figure.colorbar(im, ax=ax)\n",
        "    ax.set(xticks=np.arange(cm.shape[1]), yticks=np.arange(cm.shape[0]), xticklabels=classes, yticklabels=classes, title=title, \n",
        "           ylabel='True label',\n",
        "           xlabel='Predicted label')\n",
        "\n",
        "    plt.setp(ax.get_xticklabels(), rotation=45, ha=\"right\", rotation_mode=\"anchor\")\n",
        "\n",
        "    fmt = '.2f' if normalize else 'd'\n",
        "    thresh = cm.max() / 2.\n",
        "    \n",
        "    for i in range(cm.shape[0]):\n",
        "        for j in range(cm.shape[1]):\n",
        "            ax.text(j, i, format(cm[i, j], fmt),\n",
        "                    ha=\"center\", va=\"center\",\n",
        "                    color=\"white\" if cm[i, j] > thresh else \"black\")\n",
        "    \n",
        "    fig.tight_layout()\n",
        "    return ax"
      ],
      "execution_count": 0,
      "outputs": []
    },
    {
      "cell_type": "code",
      "metadata": {
        "id": "3L2sJdFdEVcu",
        "colab_type": "code",
        "outputId": "43ec629a-8288-4b7b-d652-b79e977c7e00",
        "colab": {
          "base_uri": "https://localhost:8080/",
          "height": 1358
        }
      },
      "source": [
        "seed = 1337\n",
        "np.random.seed(seed)\n",
        "\n",
        "epochs = 5\n",
        "batch_size = 25\n",
        "input_shape = (224,224,3)\n",
        "\n",
        "data = np.load('drive/ML-Kaggle/Data/images_labels_224.npz')\n",
        "x = data['x']\n",
        "y = data['y']\n",
        "n_classes = len(np.unique(y))\n",
        "\n",
        "X_train, X_val, X_test, y_train, y_val, y_test = train_validation_split(x, y)\n",
        "y_train, y_val, y_test = one_hot(y_train, y_val, y_test, n_classes)\n",
        "final_model = build_fit_save_cnn(input_shape, n_classes, epochs, batch_size, X_train, X_val, y_train, y_val)\n",
        "test_pred, score = test_predict_score(final_model, X_test, y_test)"
      ],
      "execution_count": 0,
      "outputs": [
        {
          "output_type": "stream",
          "text": [
            "WARNING: Logging before flag parsing goes to stderr.\n",
            "W0622 11:00:52.861972 139819966293888 deprecation_wrapper.py:119] From /usr/local/lib/python3.6/dist-packages/keras/backend/tensorflow_backend.py:74: The name tf.get_default_graph is deprecated. Please use tf.compat.v1.get_default_graph instead.\n",
            "\n",
            "W0622 11:00:52.898869 139819966293888 deprecation_wrapper.py:119] From /usr/local/lib/python3.6/dist-packages/keras/backend/tensorflow_backend.py:517: The name tf.placeholder is deprecated. Please use tf.compat.v1.placeholder instead.\n",
            "\n",
            "W0622 11:00:52.907606 139819966293888 deprecation_wrapper.py:119] From /usr/local/lib/python3.6/dist-packages/keras/backend/tensorflow_backend.py:4185: The name tf.truncated_normal is deprecated. Please use tf.random.truncated_normal instead.\n",
            "\n",
            "W0622 11:00:52.945028 139819966293888 deprecation_wrapper.py:119] From /usr/local/lib/python3.6/dist-packages/keras/backend/tensorflow_backend.py:174: The name tf.get_default_session is deprecated. Please use tf.compat.v1.get_default_session instead.\n",
            "\n",
            "W0622 11:00:52.946056 139819966293888 deprecation_wrapper.py:119] From /usr/local/lib/python3.6/dist-packages/keras/backend/tensorflow_backend.py:181: The name tf.ConfigProto is deprecated. Please use tf.compat.v1.ConfigProto instead.\n",
            "\n",
            "W0622 11:00:55.856308 139819966293888 deprecation_wrapper.py:119] From /usr/local/lib/python3.6/dist-packages/keras/backend/tensorflow_backend.py:1834: The name tf.nn.fused_batch_norm is deprecated. Please use tf.compat.v1.nn.fused_batch_norm instead.\n",
            "\n",
            "W0622 11:00:56.386645 139819966293888 deprecation_wrapper.py:119] From /usr/local/lib/python3.6/dist-packages/keras/backend/tensorflow_backend.py:3976: The name tf.nn.max_pool is deprecated. Please use tf.nn.max_pool2d instead.\n",
            "\n",
            "W0622 11:00:56.728984 139819966293888 deprecation_wrapper.py:119] From /usr/local/lib/python3.6/dist-packages/keras/backend/tensorflow_backend.py:3980: The name tf.nn.avg_pool is deprecated. Please use tf.nn.avg_pool2d instead.\n",
            "\n"
          ],
          "name": "stderr"
        },
        {
          "output_type": "stream",
          "text": [
            "Downloading data from https://github.com/titu1994/Keras-NASNet/releases/download/v1.2/NASNet-mobile-no-top.h5\n",
            "19996672/19993432 [==============================] - 0s 0us/step\n"
          ],
          "name": "stdout"
        },
        {
          "output_type": "stream",
          "text": [
            "W0622 11:01:29.240859 139819966293888 deprecation.py:506] From /usr/local/lib/python3.6/dist-packages/keras/backend/tensorflow_backend.py:3445: calling dropout (from tensorflow.python.ops.nn_ops) with keep_prob is deprecated and will be removed in a future version.\n",
            "Instructions for updating:\n",
            "Please use `rate` instead of `keep_prob`. Rate should be set to `rate = 1 - keep_prob`.\n",
            "W0622 11:01:29.388276 139819966293888 deprecation_wrapper.py:119] From /usr/local/lib/python3.6/dist-packages/keras/optimizers.py:790: The name tf.train.Optimizer is deprecated. Please use tf.compat.v1.train.Optimizer instead.\n",
            "\n",
            "W0622 11:01:29.676187 139819966293888 deprecation.py:323] From /usr/local/lib/python3.6/dist-packages/tensorflow/python/ops/math_grad.py:1250: add_dispatch_support.<locals>.wrapper (from tensorflow.python.ops.array_ops) is deprecated and will be removed in a future version.\n",
            "Instructions for updating:\n",
            "Use tf.where in 2.0, which has the same broadcast rule as np.where\n"
          ],
          "name": "stderr"
        },
        {
          "output_type": "stream",
          "text": [
            "Train on 675 samples, validate on 225 samples\n",
            "Epoch 1/5\n",
            "675/675 [==============================] - 51s 76ms/step - loss: 1.1037 - acc: 0.5111 - val_loss: 0.8445 - val_acc: 0.6178\n",
            "Epoch 2/5\n",
            "675/675 [==============================] - 11s 16ms/step - loss: 0.5534 - acc: 0.7659 - val_loss: 0.8854 - val_acc: 0.6044\n",
            "Epoch 3/5\n",
            "675/675 [==============================] - 11s 16ms/step - loss: 0.2669 - acc: 0.8993 - val_loss: 0.8529 - val_acc: 0.6756\n",
            "Epoch 4/5\n",
            "675/675 [==============================] - 11s 16ms/step - loss: 0.0859 - acc: 0.9763 - val_loss: 0.9535 - val_acc: 0.6933\n",
            "Epoch 5/5\n",
            "675/675 [==============================] - 11s 16ms/step - loss: 0.0422 - acc: 0.9881 - val_loss: 1.1128 - val_acc: 0.6578\n",
            "Val. score: 1.1128114078690607\n",
            "Val. accuracy: 0.6577777777777778\n",
            "dict_keys(['val_loss', 'val_acc', 'loss', 'acc'])\n"
          ],
          "name": "stdout"
        },
        {
          "output_type": "display_data",
          "data": {
            "image/png": "[encoded data removed]",
            "text/plain": [
              "<Figure size 432x288 with 1 Axes>"
            ]
          },
          "metadata": {
            "tags": []
          }
        },
        {
          "output_type": "display_data",
          "data": {
            "image/png": "[encoded data removed]",
            "text/plain": [
              "<Figure size 432x288 with 1 Axes>"
            ]
          },
          "metadata": {
            "tags": []
          }
        },
        {
          "output_type": "stream",
          "text": [
            "Model saved to disk!\n",
            "History saved to disk!\n",
            "Test score: 0.94153511206309\n",
            "Test accuracy: 0.6933333333333334\n"
          ],
          "name": "stdout"
        }
      ]
    },
    {
      "cell_type": "code",
      "metadata": {
        "id": "20eJGWxo1_et",
        "colab_type": "code",
        "outputId": "db4ab30d-feb6-485d-bca9-9d4d85a4ce77",
        "colab": {
          "base_uri": "https://localhost:8080/",
          "height": 1053
        }
      },
      "source": [
        "class_names = [\"Impressionism\", \"Expressionism\", \"Surrealism\"]\n",
        "\n",
        "y_pred = np.argmax(test_pred, axis=1)\n",
        "y_test_ = np.argmax(y_test, axis=1)\n",
        "\n",
        "print(type_of_target(y_pred))\n",
        "print(type_of_target(y_test_))\n",
        "\n",
        "print(y_pred,y_test_)\n",
        "print(len(y_pred),len(y_test_))\n",
        "    \n",
        "\n",
        "plot_confusion_matrix(y_test_, y_pred, classes=class_names, title='Confusion matrix, without normalization')\n",
        "plot_confusion_matrix(y_test_, y_pred, classes=class_names, normalize=True, title='Normalized confusion matrix')\n",
        "\n",
        "plt.show()"
      ],
      "execution_count": 0,
      "outputs": [
        {
          "output_type": "stream",
          "text": [
            "multiclass\n",
            "multiclass\n",
            "[1 0 1 2 1 1 0 1 2 0 1 1 1 2 0 1 1 2 1 0 0 1 1 2 2 2 0 2 1 1 1 1 0 1 2 2 0\n",
            " 1 1 0 1 1 2 2 2 2 1 1 2 1 0 2 2 0 1 1 2 1 2 0 0 1 2 1 2 0 0 2 2 2 2 0 1 1\n",
            " 1 2 0 0 0 1 1 1 1 1 2 2 0 2 0 0 2 1 2 2 0 2 2 0 0 0 2 2 2 2 1 2 0 2 1 1 1\n",
            " 2 1 2 2 1 1 0 2 1 1 0 0 1 2 1 2 2 2 0 0 0 1 2 1 0 2 0 0 0 1 0 2 1 0 1 1 2\n",
            " 2 1 1 0 2 2 2 0 1 1 1 0 2 1 2 2 0 0 0 2 2 1 1 0 2 1 2 1 0 1 1 2 1 1 0 1 0\n",
            " 2 2 0 0 0 0 0 2 1 2 0 0 2 2 2 1 0 2 0 1 0 0 1 0 2 2 2 0 0 2 1 2 2 2 1 1 1\n",
            " 2 2 2 1 1 1 0 2 0 2 0 0 2 1 1 2 0 0 2 0 0 1 2 0 0 2 0 2 1 0 0 1 1 0 2 0 2\n",
            " 1 1 2 0 2 1 1 2 1 2 2 2 2 2 1 0 1 2 1 0 1 0 1 1 1 2 2 2 2 1 1 1 0 0 0 0 2\n",
            " 2 2 2 0] [1 1 1 2 1 2 0 1 0 0 1 1 1 2 0 1 1 2 1 0 0 1 0 2 2 2 0 2 2 1 1 1 0 1 2 0 0\n",
            " 1 1 1 1 1 2 0 0 2 1 1 0 0 1 2 0 0 1 1 2 1 0 0 0 1 0 1 0 2 0 2 2 0 2 1 1 1\n",
            " 1 2 2 0 0 0 1 0 0 1 2 2 2 0 0 0 1 1 0 0 0 2 2 1 2 0 2 2 0 2 1 2 0 2 1 0 1\n",
            " 2 2 0 0 1 0 0 0 1 1 0 1 1 2 1 2 2 0 0 0 2 0 2 1 0 2 0 0 0 1 2 2 1 0 0 0 2\n",
            " 2 1 1 0 2 0 2 0 1 1 0 1 1 2 2 2 0 0 0 0 2 1 1 0 2 1 2 1 1 1 1 0 0 1 0 1 1\n",
            " 2 2 2 1 0 1 2 2 0 2 0 2 2 1 1 1 0 1 1 1 0 2 1 2 2 2 2 0 0 0 1 2 2 2 1 1 1\n",
            " 2 2 2 1 1 1 2 2 0 2 2 0 2 1 0 2 2 1 2 0 2 0 2 0 2 2 2 2 1 0 1 1 1 2 0 0 2\n",
            " 1 0 0 0 2 1 1 0 1 2 2 2 2 2 1 0 1 2 1 2 1 0 1 1 1 0 0 2 0 2 1 0 2 0 0 0 2\n",
            " 0 2 0 2]\n",
            "300 300\n",
            "Confusion matrix, without normalization\n",
            "[[53 17 30]\n",
            " [14 81  5]\n",
            " [21  5 74]]\n",
            "Normalized confusion matrix\n",
            "[[0.53 0.17 0.3 ]\n",
            " [0.14 0.81 0.05]\n",
            " [0.21 0.05 0.74]]\n"
          ],
          "name": "stdout"
        },
        {
          "output_type": "display_data",
          "data": {
            "image/png": "[encoded data removed]",
            "text/plain": [
              "<Figure size 432x288 with 2 Axes>"
            ]
          },
          "metadata": {
            "tags": []
          }
        },
        {
          "output_type": "display_data",
          "data": {
            "image/png": "[encoded data removed]",
            "text/plain": [
              "<Figure size 432x288 with 2 Axes>"
            ]
          },
          "metadata": {
            "tags": []
          }
        }
      ]
    },
    {
      "cell_type": "code",
      "metadata": {
        "id": "xY1NwbOh2Agc",
        "colab_type": "code",
        "outputId": "534e2e88-a828-410c-f558-511dc51baf7e",
        "colab": {
          "base_uri": "https://localhost:8080/",
          "height": 34
        }
      },
      "source": [
        "precision_recall_fscore_support(y_test_, y_pred, average='macro')"
      ],
      "execution_count": 0,
      "outputs": [
        {
          "output_type": "execute_result",
          "data": {
            "text/plain": [
              "(0.6891931922772753, 0.6933333333333334, 0.6899977717253849, None)"
            ]
          },
          "metadata": {
            "tags": []
          },
          "execution_count": 14
        }
      ]
    },
    {
      "cell_type": "markdown",
      "metadata": {
        "id": "v-M59RhKEco9",
        "colab_type": "text"
      },
      "source": [
        "# Predict"
      ]
    },
    {
      "cell_type": "code",
      "metadata": {
        "id": "bn2rEqb1Eef6",
        "colab_type": "code",
        "colab": {}
      },
      "source": [
        ""
      ],
      "execution_count": 0,
      "outputs": []
    }
  ]
}