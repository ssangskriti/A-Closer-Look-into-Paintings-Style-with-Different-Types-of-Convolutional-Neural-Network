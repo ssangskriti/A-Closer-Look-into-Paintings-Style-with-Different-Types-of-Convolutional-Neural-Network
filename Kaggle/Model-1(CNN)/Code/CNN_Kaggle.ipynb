{
  "nbformat": 4,
  "nbformat_minor": 0,
  "metadata": {
    "colab": {
      "name": "CNN-Kaggle.ipynb",
      "version": "0.3.2",
      "provenance": [],
      "collapsed_sections": []
    },
    "kernelspec": {
      "name": "python3",
      "display_name": "Python 3"
    },
    "accelerator": "TPU"
  },
  "cells": [
    {
      "cell_type": "markdown",
      "metadata": {
        "id": "Q2ilLxk8lkXg",
        "colab_type": "text"
      },
      "source": [
        "# Connect to Google Drive"
      ]
    },
    {
      "cell_type": "code",
      "metadata": {
        "id": "XERXQWf3lsG3",
        "colab_type": "code",
        "outputId": "68c6ed11-8e41-4b1d-9184-0c8d3b9d43be",
        "colab": {
          "base_uri": "https://localhost:8080/",
          "height": 365
        }
      },
      "source": [
        "#Step 1 part 1: connect to drive\n",
        "!apt-get install -y -qq software-properties-common python-software-properties module-init-tools\n",
        "!add-apt-repository -y ppa:alessandro-strada/ppa 2>&1 > /dev/null\n",
        "!apt-get update -qq 2>&1 > /dev/null\n",
        "!apt-get -y install -qq google-drive-ocamlfuse fuse\n",
        "from google.colab import auth\n",
        "auth.authenticate_user()\n",
        "from oauth2client.client import GoogleCredentials\n",
        "creds = GoogleCredentials.get_application_default()\n",
        "import getpass\n",
        "!google-drive-ocamlfuse -headless -id={creds.client_id} -secret={creds.client_secret} < /dev/null 2>&1 | grep URL\n",
        "vcode = getpass.getpass()\n",
        "!echo {vcode} | google-drive-ocamlfuse -headless -id={creds.client_id} -secret={creds.client_secret}"
      ],
      "execution_count": 0,
      "outputs": [
        {
          "output_type": "stream",
          "text": [
            "E: Package 'python-software-properties' has no installation candidate\n",
            "Selecting previously unselected package google-drive-ocamlfuse.\n",
            "(Reading database ... 130911 files and directories currently installed.)\n",
            "Preparing to unpack .../google-drive-ocamlfuse_0.7.3-0ubuntu3~ubuntu18.04.1_amd64.deb ...\n",
            "Unpacking google-drive-ocamlfuse (0.7.3-0ubuntu3~ubuntu18.04.1) ...\n",
            "Setting up google-drive-ocamlfuse (0.7.3-0ubuntu3~ubuntu18.04.1) ...\n",
            "Processing triggers for man-db (2.8.3-2ubuntu0.1) ...\n",
            "\n",
            "WARNING: The TensorFlow contrib module will not be included in TensorFlow 2.0.\n",
            "For more information, please see:\n",
            "  * https://github.com/tensorflow/community/blob/master/rfcs/20180907-contrib-sunset.md\n",
            "  * https://github.com/tensorflow/addons\n",
            "If you depend on functionality not listed there, please file an issue.\n",
            "\n",
            "Please, open the following URL in a web browser: https://accounts.google.com/o/oauth2/auth?client_id=32555940559.apps.googleusercontent.com&redirect_uri=urn%3Aietf%3Awg%3Aoauth%3A2.0%3Aoob&scope=https%3A%2F%2Fwww.googleapis.com%2Fauth%2Fdrive&response_type=code&access_type=offline&approval_prompt=force\n",
            "··········\n",
            "Please, open the following URL in a web browser: https://accounts.google.com/o/oauth2/auth?client_id=32555940559.apps.googleusercontent.com&redirect_uri=urn%3Aietf%3Awg%3Aoauth%3A2.0%3Aoob&scope=https%3A%2F%2Fwww.googleapis.com%2Fauth%2Fdrive&response_type=code&access_type=offline&approval_prompt=force\n",
            "Please enter the verification code: Access token retrieved correctly.\n"
          ],
          "name": "stdout"
        }
      ]
    },
    {
      "cell_type": "code",
      "metadata": {
        "id": "ilIYVLr2ltvR",
        "colab_type": "code",
        "colab": {}
      },
      "source": [
        "!mkdir -p drive\n",
        "!google-drive-ocamlfuse drive"
      ],
      "execution_count": 0,
      "outputs": []
    },
    {
      "cell_type": "markdown",
      "metadata": {
        "id": "cQQQ3S4appNS",
        "colab_type": "text"
      },
      "source": [
        "# CNN Model"
      ]
    },
    {
      "cell_type": "code",
      "metadata": {
        "id": "nP_rO4qBr25n",
        "colab_type": "code",
        "outputId": "9bdebe31-e4fe-4e23-cf22-99dd1784670f",
        "colab": {
          "base_uri": "https://localhost:8080/",
          "height": 35
        }
      },
      "source": [
        "import numpy as np\n",
        "import pandas as pd\n",
        "import os\n",
        "import cv2\n",
        "import glob\n",
        "from os import listdir\n",
        "from os.path import isfile, join\n",
        "from os import walk\n",
        "from random import sample\n",
        "import pickle, cv2\n",
        "import matplotlib.pyplot as plt\n",
        "from keras.preprocessing.image import ImageDataGenerator\n",
        "from sklearn.preprocessing import LabelEncoder\n",
        "from keras.layers import Convolution2D\n",
        "from keras.layers import MaxPooling2D\n",
        "from keras import applications, optimizers\n",
        "from keras.utils import np_utils\n",
        "from keras.models import Sequential, Model\n",
        "from keras.layers import Dropout, Flatten, Dense\n",
        "from keras.models import model_from_json\n",
        "from keras.models import load_model\n",
        "from keras.utils import plot_model\n",
        "import json"
      ],
      "execution_count": 0,
      "outputs": [
        {
          "output_type": "stream",
          "text": [
            "Using TensorFlow backend.\n"
          ],
          "name": "stderr"
        }
      ]
    },
    {
      "cell_type": "code",
      "metadata": {
        "id": "uydvtf2op7Pn",
        "colab_type": "code",
        "colab": {}
      },
      "source": [
        "data_root = 'drive/ML-Kaggle/'"
      ],
      "execution_count": 0,
      "outputs": []
    },
    {
      "cell_type": "code",
      "metadata": {
        "id": "sIUQjiXzqSKJ",
        "colab_type": "code",
        "outputId": "f09c16e3-2d6b-4596-aefb-dfb6c7caa7de",
        "colab": {
          "base_uri": "https://localhost:8080/",
          "height": 71
        }
      },
      "source": [
        "model = Sequential()\n",
        "model.add(Convolution2D(filters=32, kernel_size=(3,3), input_shape=(224,224,3), activation = 'relu'))\n",
        "model.add(MaxPooling2D(pool_size=(2,2)))\n",
        "model.add(Convolution2D(32,3,3, activation='relu'))\n",
        "model.add(MaxPooling2D(pool_size=(2,2)))\n",
        "model.add(Flatten())\n",
        "model.add(Dense(units=512, activation='relu'))\n",
        "model.add(Dense(units=512, activation='relu'))\n",
        "model.add(Dense(units=128, activation='relu'))\n",
        "model.add(Dropout(0.25))\n",
        "model.add(Dense(units=3, activation = 'softmax'))\n",
        "\n",
        "sgd = optimizers.SGD(lr=0.001, decay=1e-6, momentum=0.9, nesterov=True)\n",
        "\n",
        "model.compile(loss='categorical_crossentropy', optimizer=sgd, metrics=['accuracy'])"
      ],
      "execution_count": 0,
      "outputs": [
        {
          "output_type": "stream",
          "text": [
            "/usr/local/lib/python3.6/dist-packages/ipykernel_launcher.py:4: UserWarning: Update your `Conv2D` call to the Keras 2 API: `Conv2D(32, (3, 3), activation=\"relu\")`\n",
            "  after removing the cwd from sys.path.\n"
          ],
          "name": "stderr"
        }
      ]
    },
    {
      "cell_type": "code",
      "metadata": {
        "id": "mTysTCU7rnZ1",
        "colab_type": "code",
        "outputId": "9f27f73e-b11d-4b03-d31c-f863dca44828",
        "colab": {
          "base_uri": "https://localhost:8080/",
          "height": 54
        }
      },
      "source": [
        "train_datagen = ImageDataGenerator(rescale=1./255, shear_range=0.1, zoom_range=0.2, horizontal_flip=True)\n",
        "test_datagen = ImageDataGenerator(rescale=1./255)\n",
        "\n",
        "train_data = '{}{}'.format(data_root,'training_set/')\n",
        "test_data = '{}{}'.format(data_root,'test_set/')\n",
        "\n",
        "training_set = train_datagen.flow_from_directory(train_data, target_size=(224,224), batch_size=32, class_mode='categorical')\n",
        "test_set = test_datagen.flow_from_directory(test_data, target_size=(224,224), batch_size=32, class_mode='categorical')"
      ],
      "execution_count": 0,
      "outputs": [
        {
          "output_type": "stream",
          "text": [
            "Found 1500 images belonging to 3 classes.\n",
            "Found 300 images belonging to 3 classes.\n"
          ],
          "name": "stdout"
        }
      ]
    },
    {
      "cell_type": "code",
      "metadata": {
        "id": "aursbGi7yNJA",
        "colab_type": "code",
        "outputId": "c88d478a-5494-4dcc-dc9a-048b7fa6fa85",
        "colab": {
          "base_uri": "https://localhost:8080/",
          "height": 35
        }
      },
      "source": [
        "classes = training_set.class_indices\n",
        "print(classes)"
      ],
      "execution_count": 0,
      "outputs": [
        {
          "output_type": "stream",
          "text": [
            "{'Expressionism': 0, 'Impressionism': 1, 'Surrealism': 2}\n"
          ],
          "name": "stdout"
        }
      ]
    },
    {
      "cell_type": "code",
      "metadata": {
        "id": "54eS536GvS39",
        "colab_type": "code",
        "outputId": "24d1f3e5-2138-4195-db42-2ee3e96301d3",
        "colab": {
          "base_uri": "https://localhost:8080/",
          "height": 54
        }
      },
      "source": [
        "print(training_set)\n",
        "print(test_set)"
      ],
      "execution_count": 0,
      "outputs": [
        {
          "output_type": "stream",
          "text": [
            "<keras_preprocessing.image.directory_iterator.DirectoryIterator object at 0x7facb9aa9f60>\n",
            "<keras_preprocessing.image.directory_iterator.DirectoryIterator object at 0x7facb9aa9ef0>\n"
          ],
          "name": "stdout"
        }
      ]
    },
    {
      "cell_type": "code",
      "metadata": {
        "id": "urUnBWh_wf5H",
        "colab_type": "code",
        "outputId": "f6e6e947-3698-4c5e-e9cb-4a500fd8da02",
        "colab": {
          "base_uri": "https://localhost:8080/",
          "height": 1310
        }
      },
      "source": [
        "model.fit_generator(training_set, samples_per_epoch=100, nb_epoch=30, validation_data=test_set, nb_val_samples=300)"
      ],
      "execution_count": 0,
      "outputs": [
        {
          "output_type": "stream",
          "text": [
            "WARNING:tensorflow:From /usr/local/lib/python3.6/dist-packages/tensorflow/python/ops/math_ops.py:3066: to_int32 (from tensorflow.python.ops.math_ops) is deprecated and will be removed in a future version.\n",
            "Instructions for updating:\n",
            "Use tf.cast instead.\n"
          ],
          "name": "stdout"
        },
        {
          "output_type": "stream",
          "text": [
            "/usr/local/lib/python3.6/dist-packages/ipykernel_launcher.py:1: UserWarning: The semantics of the Keras 2 argument `steps_per_epoch` is not the same as the Keras 1 argument `samples_per_epoch`. `steps_per_epoch` is the number of batches to draw from the generator at each epoch. Basically steps_per_epoch = samples_per_epoch/batch_size. Similarly `nb_val_samples`->`validation_steps` and `val_samples`->`steps` arguments have changed. Update your method calls accordingly.\n",
            "  \"\"\"Entry point for launching an IPython kernel.\n",
            "/usr/local/lib/python3.6/dist-packages/ipykernel_launcher.py:1: UserWarning: Update your `fit_generator` call to the Keras 2 API: `fit_generator(<keras_pre..., validation_data=<keras_pre..., steps_per_epoch=3, epochs=30, validation_steps=300)`\n",
            "  \"\"\"Entry point for launching an IPython kernel.\n"
          ],
          "name": "stderr"
        },
        {
          "output_type": "stream",
          "text": [
            "Epoch 1/30\n",
            "1/3 [=========>....................] - ETA: 56s - loss: 1.0972 - acc: 0.3125"
          ],
          "name": "stdout"
        },
        {
          "output_type": "stream",
          "text": [
            "/usr/local/lib/python3.6/dist-packages/PIL/Image.py:2496: DecompressionBombWarning: Image size (145486286 pixels) exceeds limit of 89478485 pixels, could be decompression bomb DOS attack.\n",
            "  DecompressionBombWarning)\n"
          ],
          "name": "stderr"
        },
        {
          "output_type": "stream",
          "text": [
            "3/3 [==============================] - 737s 246s/step - loss: 1.0902 - acc: 0.3958 - val_loss: 1.1034 - val_acc: 0.3367\n",
            "Epoch 2/30\n",
            "3/3 [==============================] - 566s 189s/step - loss: 1.1180 - acc: 0.2917 - val_loss: 1.0980 - val_acc: 0.3367\n",
            "Epoch 3/30\n",
            "3/3 [==============================] - 565s 188s/step - loss: 1.1059 - acc: 0.2604 - val_loss: 1.0980 - val_acc: 0.3500\n",
            "Epoch 4/30\n",
            "3/3 [==============================] - 564s 188s/step - loss: 1.1065 - acc: 0.3542 - val_loss: 1.0984 - val_acc: 0.3400\n",
            "Epoch 5/30\n",
            "3/3 [==============================] - 564s 188s/step - loss: 1.1012 - acc: 0.4062 - val_loss: 1.0971 - val_acc: 0.3433\n",
            "Epoch 6/30\n",
            "3/3 [==============================] - 666s 222s/step - loss: 1.1035 - acc: 0.2917 - val_loss: 1.0974 - val_acc: 0.3867\n",
            "Epoch 7/30\n",
            "3/3 [==============================] - 917s 306s/step - loss: 1.0946 - acc: 0.3438 - val_loss: 1.0986 - val_acc: 0.3600\n",
            "Epoch 8/30\n",
            "3/3 [==============================] - 979s 326s/step - loss: 1.0992 - acc: 0.3750 - val_loss: 1.0978 - val_acc: 0.3333\n",
            "Epoch 9/30\n",
            "3/3 [==============================] - 1122s 374s/step - loss: 1.0885 - acc: 0.3750 - val_loss: 1.1008 - val_acc: 0.3333\n",
            "Epoch 10/30\n",
            "3/3 [==============================] - 1315s 438s/step - loss: 1.0859 - acc: 0.3854 - val_loss: 1.1001 - val_acc: 0.3333\n",
            "Epoch 11/30\n",
            "3/3 [==============================] - 1309s 436s/step - loss: 1.0916 - acc: 0.3021 - val_loss: 1.1010 - val_acc: 0.3833\n",
            "Epoch 12/30\n",
            "3/3 [==============================] - 1461s 487s/step - loss: 1.1050 - acc: 0.3854 - val_loss: 1.0946 - val_acc: 0.3500\n",
            "Epoch 13/30\n",
            "3/3 [==============================] - 1287s 429s/step - loss: 1.0904 - acc: 0.3854 - val_loss: 1.0942 - val_acc: 0.4000\n",
            "Epoch 14/30\n",
            "3/3 [==============================] - 1354s 451s/step - loss: 1.1040 - acc: 0.3646 - val_loss: 1.0959 - val_acc: 0.3533\n",
            "Epoch 15/30\n",
            "3/3 [==============================] - 1341s 447s/step - loss: 1.1105 - acc: 0.3542 - val_loss: 1.0927 - val_acc: 0.3333\n",
            "Epoch 16/30\n",
            "3/3 [==============================] - 1494s 498s/step - loss: 1.0988 - acc: 0.3537 - val_loss: 1.0927 - val_acc: 0.3433\n",
            "Epoch 17/30\n",
            "3/3 [==============================] - 1468s 489s/step - loss: 1.1019 - acc: 0.3438 - val_loss: 1.0904 - val_acc: 0.3633\n",
            "Epoch 18/30\n",
            "3/3 [==============================] - 1517s 506s/step - loss: 1.0914 - acc: 0.3438 - val_loss: 1.0892 - val_acc: 0.3600\n",
            "Epoch 19/30\n",
            "3/3 [==============================] - 1321s 440s/step - loss: 1.0938 - acc: 0.2812 - val_loss: 1.0890 - val_acc: 0.3767\n",
            "Epoch 20/30\n",
            "3/3 [==============================] - 1333s 444s/step - loss: 1.1011 - acc: 0.3021 - val_loss: 1.0904 - val_acc: 0.3367\n",
            "Epoch 21/30\n",
            "3/3 [==============================] - 1331s 444s/step - loss: 1.1092 - acc: 0.2812 - val_loss: 1.0882 - val_acc: 0.4167\n",
            "Epoch 22/30\n",
            "3/3 [==============================] - 1370s 457s/step - loss: 1.0749 - acc: 0.4583 - val_loss: 1.0878 - val_acc: 0.4000\n",
            "Epoch 23/30\n",
            "3/3 [==============================] - 1403s 468s/step - loss: 1.0906 - acc: 0.3750 - val_loss: 1.0911 - val_acc: 0.3867\n",
            "Epoch 24/30\n",
            "3/3 [==============================] - 1385s 462s/step - loss: 1.1278 - acc: 0.2812 - val_loss: 1.0888 - val_acc: 0.3667\n",
            "Epoch 25/30\n",
            "3/3 [==============================] - 1408s 469s/step - loss: 1.1012 - acc: 0.3542 - val_loss: 1.0877 - val_acc: 0.4067\n",
            "Epoch 26/30\n",
            "3/3 [==============================] - 1435s 478s/step - loss: 1.0839 - acc: 0.3958 - val_loss: 1.0870 - val_acc: 0.4067\n",
            "Epoch 27/30\n",
            "3/3 [==============================] - 1422s 474s/step - loss: 1.0865 - acc: 0.4271 - val_loss: 1.0847 - val_acc: 0.3733\n",
            "Epoch 28/30\n",
            "3/3 [==============================] - 1347s 449s/step - loss: 1.0857 - acc: 0.3542 - val_loss: 1.0821 - val_acc: 0.4133\n",
            "Epoch 29/30\n",
            "3/3 [==============================] - 1384s 461s/step - loss: 1.0900 - acc: 0.3854 - val_loss: 1.0815 - val_acc: 0.3667\n",
            "Epoch 30/30\n",
            "3/3 [==============================] - 1492s 497s/step - loss: 1.0603 - acc: 0.4583 - val_loss: 1.0848 - val_acc: 0.3567\n"
          ],
          "name": "stdout"
        },
        {
          "output_type": "execute_result",
          "data": {
            "text/plain": [
              "<keras.callbacks.History at 0x7fdd34f86198>"
            ]
          },
          "metadata": {
            "tags": []
          },
          "execution_count": 15
        }
      ]
    },
    {
      "cell_type": "code",
      "metadata": {
        "id": "7NeGK-4zA04V",
        "colab_type": "code",
        "colab": {}
      },
      "source": [
        "plot_model(model, to_file='drive/ML-Kaggle/model.pdf')"
      ],
      "execution_count": 0,
      "outputs": []
    },
    {
      "cell_type": "code",
      "metadata": {
        "id": "JAijeJkKg5J2",
        "colab_type": "code",
        "colab": {}
      },
      "source": [
        "def load_model():\n",
        "    json_file = open('drive/ML-Kaggle/second_model.json', 'r')\n",
        "    loaded_model_json = json_file.read()\n",
        "    json_file.close()\n",
        "\n",
        "    loaded_model = model_from_json(loaded_model_json)\n",
        "    loaded_model.load_weights('drive/ML-Kaggle/second_model_weights.h5')\n",
        "\n",
        "    sgd = optimizers.SGD(lr=0.001, decay=1e-6, momentum=0.9, nesterov=True)\n",
        "    loaded_model.compile(loss='categorical_crossentropy', optimizer=sgd, metrics=['accuracy'])\n",
        "\n",
        "    return loaded_model"
      ],
      "execution_count": 0,
      "outputs": []
    },
    {
      "cell_type": "code",
      "metadata": {
        "id": "8kwf6SvBh_f2",
        "colab_type": "code",
        "colab": {}
      },
      "source": [
        "model = load_model()"
      ],
      "execution_count": 0,
      "outputs": []
    },
    {
      "cell_type": "code",
      "metadata": {
        "id": "DumvxhjRqJoa",
        "colab_type": "code",
        "outputId": "e8147ccc-2cf5-42b1-c8c2-5184e4b80eab",
        "colab": {
          "base_uri": "https://localhost:8080/",
          "height": 649
        }
      },
      "source": [
        "history = model.fit_generator(training_set, samples_per_epoch=100, nb_epoch=15, validation_data=test_set, nb_val_samples=300)"
      ],
      "execution_count": 0,
      "outputs": [
        {
          "output_type": "stream",
          "text": [
            "/usr/local/lib/python3.6/dist-packages/ipykernel_launcher.py:1: UserWarning: The semantics of the Keras 2 argument `steps_per_epoch` is not the same as the Keras 1 argument `samples_per_epoch`. `steps_per_epoch` is the number of batches to draw from the generator at each epoch. Basically steps_per_epoch = samples_per_epoch/batch_size. Similarly `nb_val_samples`->`validation_steps` and `val_samples`->`steps` arguments have changed. Update your method calls accordingly.\n",
            "  \"\"\"Entry point for launching an IPython kernel.\n",
            "/usr/local/lib/python3.6/dist-packages/ipykernel_launcher.py:1: UserWarning: Update your `fit_generator` call to the Keras 2 API: `fit_generator(<keras_pre..., validation_data=<keras_pre..., steps_per_epoch=3, epochs=15, validation_steps=300)`\n",
            "  \"\"\"Entry point for launching an IPython kernel.\n"
          ],
          "name": "stderr"
        },
        {
          "output_type": "stream",
          "text": [
            "Epoch 1/15\n",
            "2/3 [===================>..........] - ETA: 20s - loss: 1.0911 - acc: 0.2812"
          ],
          "name": "stdout"
        },
        {
          "output_type": "stream",
          "text": [
            "/usr/local/lib/python3.6/dist-packages/PIL/Image.py:2496: DecompressionBombWarning: Image size (145486286 pixels) exceeds limit of 89478485 pixels, could be decompression bomb DOS attack.\n",
            "  DecompressionBombWarning)\n"
          ],
          "name": "stderr"
        },
        {
          "output_type": "stream",
          "text": [
            "\b\b\b\b\b\b\b\b\b\b\b\b\b\b\b\b\b\b\b\b\b\b\b\b\b\b\b\b\b\b\b\b\b\b\b\b\b\b\b\b\b\b\b\b\b\b\b\b\b\b\b\b\b\b\b\b\b\b\b\b\b\b\b\b\b\b\b\b\b\b\b\b\b\b\b\b\r3/3 [==============================] - 637s 212s/step - loss: 1.1003 - acc: 0.2812 - val_loss: 1.0808 - val_acc: 0.3500\n",
            "Epoch 2/15\n",
            "3/3 [==============================] - 545s 182s/step - loss: 1.0795 - acc: 0.3958 - val_loss: 1.0786 - val_acc: 0.3967\n",
            "Epoch 3/15\n",
            "3/3 [==============================] - 550s 183s/step - loss: 1.0824 - acc: 0.4271 - val_loss: 1.0776 - val_acc: 0.4200\n",
            "Epoch 4/15\n",
            "3/3 [==============================] - 630s 210s/step - loss: 1.0840 - acc: 0.3958 - val_loss: 1.0771 - val_acc: 0.4033\n",
            "Epoch 5/15\n",
            "3/3 [==============================] - 852s 284s/step - loss: 1.0788 - acc: 0.3750 - val_loss: 1.0768 - val_acc: 0.3800\n",
            "Epoch 6/15\n",
            "3/3 [==============================] - 977s 326s/step - loss: 1.0993 - acc: 0.3229 - val_loss: 1.0748 - val_acc: 0.4100\n",
            "Epoch 7/15\n",
            "3/3 [==============================] - 1095s 365s/step - loss: 1.0595 - acc: 0.5208 - val_loss: 1.0781 - val_acc: 0.3900\n",
            "Epoch 8/15\n",
            "3/3 [==============================] - 1108s 369s/step - loss: 1.0811 - acc: 0.4062 - val_loss: 1.0793 - val_acc: 0.3867\n",
            "Epoch 9/15\n",
            "3/3 [==============================] - 1336s 445s/step - loss: 1.0933 - acc: 0.4271 - val_loss: 1.0724 - val_acc: 0.4433\n",
            "Epoch 10/15\n",
            "3/3 [==============================] - 1407s 469s/step - loss: 1.0746 - acc: 0.4375 - val_loss: 1.0708 - val_acc: 0.4367\n",
            "Epoch 11/15\n",
            "3/3 [==============================] - 1133s 378s/step - loss: 1.0582 - acc: 0.4479 - val_loss: 1.0693 - val_acc: 0.4467\n",
            "Epoch 12/15\n",
            "3/3 [==============================] - 1417s 472s/step - loss: 1.0802 - acc: 0.4375 - val_loss: 1.0685 - val_acc: 0.4400\n",
            "Epoch 13/15\n",
            "3/3 [==============================] - 1436s 479s/step - loss: 1.0667 - acc: 0.3958 - val_loss: 1.0768 - val_acc: 0.3900\n",
            "Epoch 14/15\n",
            "3/3 [==============================] - 1473s 491s/step - loss: 1.0787 - acc: 0.3646 - val_loss: 1.0752 - val_acc: 0.3800\n",
            "Epoch 15/15\n",
            "3/3 [==============================] - 1411s 470s/step - loss: 1.0643 - acc: 0.4479 - val_loss: 1.0774 - val_acc: 0.4000\n"
          ],
          "name": "stdout"
        }
      ]
    },
    {
      "cell_type": "code",
      "metadata": {
        "id": "MrGipOLkOvhC",
        "colab_type": "code",
        "colab": {}
      },
      "source": [
        "save_model_path = '{}{}'.format(data_root,'second_model.json')\n",
        "save_model_weight = '{}{}'.format(data_root,'second_model_weights.h5')\n",
        "history_path = '{}{}'.format(data_root,'history_2.json')"
      ],
      "execution_count": 0,
      "outputs": []
    },
    {
      "cell_type": "code",
      "metadata": {
        "id": "QL7uLGEuFWiO",
        "colab_type": "code",
        "outputId": "4aca0fae-6a9d-419a-f105-f5a2970278c1",
        "colab": {
          "base_uri": "https://localhost:8080/",
          "height": 51
        }
      },
      "source": [
        "open(save_model_path, 'w').close()\n",
        "open(save_model_weight, 'w').close()\n",
        "\n",
        "model_json = model.to_json()\n",
        "with open(save_model_path, 'w') as json_file:\n",
        "    json_file.write(model_json)\n",
        "\n",
        "model.save_weights(save_model_weight)\n",
        "print('Model saved to disk!')\n",
        "\n",
        "with open(history_path, 'w') as f:\n",
        "    json.dump(history.history, f)\n",
        "print('History saved to disk!')"
      ],
      "execution_count": 0,
      "outputs": [
        {
          "output_type": "stream",
          "text": [
            "Model saved to disk!\n",
            "History saved to disk!\n"
          ],
          "name": "stdout"
        }
      ]
    },
    {
      "cell_type": "code",
      "metadata": {
        "id": "NcyWAkeiAdE5",
        "colab_type": "code",
        "outputId": "41322ff3-87d5-40eb-a549-5e5ee054cddf",
        "colab": {
          "base_uri": "https://localhost:8080/",
          "height": 590
        }
      },
      "source": [
        "print(history.history.keys())\n",
        "\n",
        "plt.plot(history.history['acc'])\n",
        "plt.plot(history.history['val_acc'])\n",
        "plt.title('model accuracy')\n",
        "plt.ylabel('accuracy')\n",
        "plt.xlabel('epoch')\n",
        "plt.legend(['train', 'test'], loc='upper left')\n",
        "plt.show()\n",
        "\n",
        "plt.plot(history.history['loss'])\n",
        "plt.plot(history.history['val_loss'])\n",
        "plt.title('model loss')\n",
        "plt.ylabel('loss')\n",
        "plt.xlabel('epoch')\n",
        "plt.legend(['train', 'test'], loc='upper left')\n",
        "plt.show()"
      ],
      "execution_count": 0,
      "outputs": [
        {
          "output_type": "stream",
          "text": [
            "dict_keys(['val_loss', 'val_acc', 'loss', 'acc'])\n"
          ],
          "name": "stdout"
        },
        {
          "output_type": "display_data",
          "data": {
            "image/png": "[encoded data removed]",
            "text/plain": [
              "<Figure size 432x288 with 1 Axes>"
            ]
          },
          "metadata": {
            "tags": []
          }
        },
        {
          "output_type": "display_data",
          "data": {
            "image/png": "[encoded data removed]",
            "text/plain": [
              "<Figure size 432x288 with 1 Axes>"
            ]
          },
          "metadata": {
            "tags": []
          }
        }
      ]
    },
    {
      "cell_type": "code",
      "metadata": {
        "id": "hcrzPcG0X-tz",
        "colab_type": "code",
        "colab": {}
      },
      "source": [
        "model = load_model()"
      ],
      "execution_count": 0,
      "outputs": []
    },
    {
      "cell_type": "code",
      "metadata": {
        "id": "Mn5sTFHGXr4H",
        "colab_type": "code",
        "outputId": "b4621dac-a815-4d84-b6dd-12d999d5e963",
        "colab": {
          "base_uri": "https://localhost:8080/",
          "height": 565
        }
      },
      "source": [
        "history = model.fit_generator(training_set, samples_per_epoch=100, nb_epoch=10, validation_data=test_set, nb_val_samples=300)"
      ],
      "execution_count": 0,
      "outputs": [
        {
          "output_type": "stream",
          "text": [
            "WARNING:tensorflow:From /usr/local/lib/python3.6/dist-packages/tensorflow/python/ops/math_ops.py:3066: to_int32 (from tensorflow.python.ops.math_ops) is deprecated and will be removed in a future version.\n",
            "Instructions for updating:\n",
            "Use tf.cast instead.\n"
          ],
          "name": "stdout"
        },
        {
          "output_type": "stream",
          "text": [
            "/usr/local/lib/python3.6/dist-packages/ipykernel_launcher.py:1: UserWarning: The semantics of the Keras 2 argument `steps_per_epoch` is not the same as the Keras 1 argument `samples_per_epoch`. `steps_per_epoch` is the number of batches to draw from the generator at each epoch. Basically steps_per_epoch = samples_per_epoch/batch_size. Similarly `nb_val_samples`->`validation_steps` and `val_samples`->`steps` arguments have changed. Update your method calls accordingly.\n",
            "  \"\"\"Entry point for launching an IPython kernel.\n",
            "/usr/local/lib/python3.6/dist-packages/ipykernel_launcher.py:1: UserWarning: Update your `fit_generator` call to the Keras 2 API: `fit_generator(<keras_pre..., validation_data=<keras_pre..., steps_per_epoch=3, epochs=10, validation_steps=300)`\n",
            "  \"\"\"Entry point for launching an IPython kernel.\n"
          ],
          "name": "stderr"
        },
        {
          "output_type": "stream",
          "text": [
            "Epoch 1/10\n"
          ],
          "name": "stdout"
        },
        {
          "output_type": "stream",
          "text": [
            "/usr/local/lib/python3.6/dist-packages/PIL/Image.py:2496: DecompressionBombWarning: Image size (145486286 pixels) exceeds limit of 89478485 pixels, could be decompression bomb DOS attack.\n",
            "  DecompressionBombWarning)\n"
          ],
          "name": "stderr"
        },
        {
          "output_type": "stream",
          "text": [
            "3/3 [==============================] - 738s 246s/step - loss: 1.0739 - acc: 0.4062 - val_loss: 1.0764 - val_acc: 0.4000\n",
            "Epoch 2/10\n",
            "3/3 [==============================] - 883s 294s/step - loss: 1.0412 - acc: 0.4479 - val_loss: 1.0666 - val_acc: 0.3800\n",
            "Epoch 3/10\n",
            "3/3 [==============================] - 963s 321s/step - loss: 1.0821 - acc: 0.3958 - val_loss: 1.0661 - val_acc: 0.3933\n",
            "Epoch 4/10\n",
            "3/3 [==============================] - 1104s 368s/step - loss: 1.0360 - acc: 0.5312 - val_loss: 1.0683 - val_acc: 0.4233\n",
            "Epoch 5/10\n",
            "3/3 [==============================] - 1311s 437s/step - loss: 1.0681 - acc: 0.4896 - val_loss: 1.0605 - val_acc: 0.4233\n",
            "Epoch 6/10\n",
            "3/3 [==============================] - 1486s 495s/step - loss: 1.0728 - acc: 0.3958 - val_loss: 1.0578 - val_acc: 0.4367\n",
            "Epoch 7/10\n",
            "3/3 [==============================] - 1558s 519s/step - loss: 1.0644 - acc: 0.3750 - val_loss: 1.0556 - val_acc: 0.4433\n",
            "Epoch 8/10\n",
            "3/3 [==============================] - 1879s 626s/step - loss: 1.0791 - acc: 0.3750 - val_loss: 1.0579 - val_acc: 0.4067\n",
            "Epoch 9/10\n",
            "3/3 [==============================] - 1745s 582s/step - loss: 1.0674 - acc: 0.3958 - val_loss: 1.0621 - val_acc: 0.4133\n",
            "Epoch 10/10\n",
            "3/3 [==============================] - 1831s 610s/step - loss: 1.1179 - acc: 0.3021 - val_loss: 1.0617 - val_acc: 0.4267\n"
          ],
          "name": "stdout"
        }
      ]
    },
    {
      "cell_type": "code",
      "metadata": {
        "id": "9lMtSGXIYJvP",
        "colab_type": "code",
        "colab": {}
      },
      "source": [
        "save_model_path = '{}{}'.format(data_root,'third_model.json')\n",
        "save_model_weight = '{}{}'.format(data_root,'third_model_weights.h5')\n",
        "history_path = '{}{}'.format(data_root,'history_3.json')"
      ],
      "execution_count": 0,
      "outputs": []
    },
    {
      "cell_type": "code",
      "metadata": {
        "id": "6iI82zqFYRen",
        "colab_type": "code",
        "outputId": "2a9bc7a8-ce35-4987-f678-0454597f0df9",
        "colab": {
          "base_uri": "https://localhost:8080/",
          "height": 54
        }
      },
      "source": [
        "open(save_model_path, 'w').close()\n",
        "open(save_model_weight, 'w').close()\n",
        "\n",
        "model_json = model.to_json()\n",
        "with open(save_model_path, 'w') as json_file:\n",
        "    json_file.write(model_json)\n",
        "\n",
        "model.save_weights(save_model_weight)\n",
        "print('Model saved to disk!')\n",
        "\n",
        "with open(history_path, 'w') as f:\n",
        "    json.dump(history.history, f)\n",
        "print('History saved to disk!')"
      ],
      "execution_count": 0,
      "outputs": [
        {
          "output_type": "stream",
          "text": [
            "Model saved to disk!\n",
            "History saved to disk!\n"
          ],
          "name": "stdout"
        }
      ]
    },
    {
      "cell_type": "code",
      "metadata": {
        "id": "ojoZVkEDYVX-",
        "colab_type": "code",
        "outputId": "44c2f1e5-dfae-4bd1-9b06-7c72e8216d3f",
        "colab": {
          "base_uri": "https://localhost:8080/",
          "height": 592
        }
      },
      "source": [
        "print(history.history.keys())\n",
        "\n",
        "plt.plot(history.history['acc'])\n",
        "plt.plot(history.history['val_acc'])\n",
        "plt.title('model accuracy')\n",
        "plt.ylabel('accuracy')\n",
        "plt.xlabel('epoch')\n",
        "plt.legend(['train', 'test'], loc='upper left')\n",
        "plt.show()\n",
        "\n",
        "plt.plot(history.history['loss'])\n",
        "plt.plot(history.history['val_loss'])\n",
        "plt.title('model loss')\n",
        "plt.ylabel('loss')\n",
        "plt.xlabel('epoch')\n",
        "plt.legend(['train', 'test'], loc='upper left')\n",
        "plt.show()"
      ],
      "execution_count": 0,
      "outputs": [
        {
          "output_type": "stream",
          "text": [
            "dict_keys(['val_loss', 'val_acc', 'loss', 'acc'])\n"
          ],
          "name": "stdout"
        },
        {
          "output_type": "display_data",
          "data": {
            "image/png": "[encoded data removed]",
            "text/plain": [
              "<Figure size 432x288 with 1 Axes>"
            ]
          },
          "metadata": {
            "tags": []
          }
        },
        {
          "output_type": "display_data",
          "data": {
            "image/png": "[encoded data removed]",
            "text/plain": [
              "<Figure size 432x288 with 1 Axes>"
            ]
          },
          "metadata": {
            "tags": []
          }
        }
      ]
    },
    {
      "cell_type": "markdown",
      "metadata": {
        "id": "kbWuGhyvrvgz",
        "colab_type": "text"
      },
      "source": [
        "# Predict"
      ]
    },
    {
      "cell_type": "code",
      "metadata": {
        "id": "dsh2pX_ctYZf",
        "colab_type": "code",
        "colab": {}
      },
      "source": [
        "def load_model_to_predict():\n",
        "    json_file = open('drive/ML-Kaggle/third_model.json', 'r')\n",
        "    loaded_model_json = json_file.read()\n",
        "    json_file.close()\n",
        "\n",
        "    loaded_model = model_from_json(loaded_model_json)\n",
        "    loaded_model.load_weights('drive/ML-Kaggle/third_model_weights.h5')\n",
        "\n",
        "    sgd = optimizers.SGD(lr=0.001, decay=1e-6, momentum=0.9, nesterov=True)\n",
        "    loaded_model.compile(loss='categorical_crossentropy', optimizer=sgd, metrics=['accuracy'])\n",
        "\n",
        "    return loaded_model\n",
        "\n",
        "model = load_model_to_predict()"
      ],
      "execution_count": 0,
      "outputs": []
    },
    {
      "cell_type": "code",
      "metadata": {
        "id": "EOGdkmJNy_Cl",
        "colab_type": "code",
        "colab": {}
      },
      "source": [
        "def make_prediction(img_path):\n",
        "    \n",
        "    img = cv2.imread(img_path, 1)\n",
        "    img = cv2.resize(img,(224,224))\n",
        "    img = np.reshape(img,[1,224,224,3])\n",
        "\n",
        "    preds = model.predict_classes(img)\n",
        "\n",
        "    return preds"
      ],
      "execution_count": 0,
      "outputs": []
    },
    {
      "cell_type": "code",
      "metadata": {
        "id": "i5Yr70YHCDYF",
        "colab_type": "code",
        "outputId": "5bd2be14-966f-4d93-9737-a31be21fd22a",
        "colab": {
          "base_uri": "https://localhost:8080/",
          "height": 90
        }
      },
      "source": [
        "img_path_imp = 'drive/ML-Kaggle/UnseenData/Impressionism/'\n",
        "    \n",
        "imp = []\n",
        "\n",
        "for root, dirs, files in os.walk(img_path_imp):  \n",
        "    for filename in files:\n",
        "        imp.append(filename)\n",
        "\n",
        "print(\"Impressionism\\n\")\n",
        "\n",
        "results = []\n",
        "\n",
        "for f in imp:\n",
        "    str = img_path_imp + f\n",
        "    x = make_prediction(str)\n",
        "    \n",
        "    if x==[0]:\n",
        "        results.append(\"Expressionism\")\n",
        "    elif x==[1]:\n",
        "        results.append(\"Impressionism\")\n",
        "    elif x==[2]:\n",
        "        results.append(\"Surrealism\")\n",
        "        \n",
        "print(len(results))\n",
        "\n",
        "count_im = 0\n",
        "\n",
        "for i in range(0,211):\n",
        "    if results[i] == \"Impressionism\":\n",
        "        count_im += 1\n",
        "        \n",
        "accuracy = count_im/len(results)\n",
        "print(accuracy)"
      ],
      "execution_count": 0,
      "outputs": [
        {
          "output_type": "stream",
          "text": [
            "Impressionism\n",
            "\n",
            "211\n",
            "0.1895734597156398\n"
          ],
          "name": "stdout"
        }
      ]
    },
    {
      "cell_type": "code",
      "metadata": {
        "id": "B5Xf82TrivOu",
        "colab_type": "code",
        "outputId": "7d526ce0-7322-49f2-8b24-8f10dad9adcd",
        "colab": {
          "base_uri": "https://localhost:8080/",
          "height": 90
        }
      },
      "source": [
        "img_path_imp = 'drive/ML-Kaggle/UnseenData/Expressionism/'\n",
        "    \n",
        "imp = []\n",
        "\n",
        "for root, dirs, files in os.walk(img_path_imp):  \n",
        "    for filename in files:\n",
        "        imp.append(filename)\n",
        "\n",
        "print(\"Expressionism\\n\")\n",
        "\n",
        "results = []\n",
        "\n",
        "for f in imp:\n",
        "    str = img_path_imp + f\n",
        "    x = make_prediction(str)\n",
        "    \n",
        "    #print(x)\n",
        "    \n",
        "    if x==[0]:\n",
        "        results.append(\"Expressionism\")\n",
        "    elif x==[1]:\n",
        "        results.append(\"Impressionism\")\n",
        "    elif x==[2]:\n",
        "        results.append(\"Surrealism\")\n",
        "        \n",
        "print(len(results))\n",
        "\n",
        "count_ex = 0\n",
        "\n",
        "for i in range(0,len(results)):\n",
        "    if results[i] == \"Expressionism\":\n",
        "        count_ex += 1\n",
        "        \n",
        "accuracy = count_ex/len(results)\n",
        "print(accuracy)"
      ],
      "execution_count": 0,
      "outputs": [
        {
          "output_type": "stream",
          "text": [
            "Expressionism\n",
            "\n",
            "200\n",
            "0.0\n"
          ],
          "name": "stdout"
        }
      ]
    },
    {
      "cell_type": "code",
      "metadata": {
        "id": "SelB-O20s8SH",
        "colab_type": "code",
        "outputId": "27280b71-ebd8-46b9-86d0-90010119fab4",
        "colab": {
          "base_uri": "https://localhost:8080/",
          "height": 90
        }
      },
      "source": [
        "img_path_imp = 'drive/ML-Kaggle/UnseenData/Surrealism/'\n",
        "    \n",
        "imp = []\n",
        "\n",
        "for root, dirs, files in os.walk(img_path_imp):  \n",
        "    for filename in files:\n",
        "        imp.append(filename)\n",
        "\n",
        "print(\"Surrealism\\n\")\n",
        "\n",
        "results = []\n",
        "\n",
        "for f in imp:\n",
        "    str = img_path_imp + f\n",
        "    x = make_prediction(str)\n",
        "    \n",
        "    if x==[0]:\n",
        "        results.append(\"Expressionism\")\n",
        "    elif x==[1]:\n",
        "        results.append(\"Impressionism\")\n",
        "    elif x==[2]:\n",
        "        results.append(\"Surrealism\")\n",
        "        \n",
        "print(len(results))\n",
        "\n",
        "count_su = 0\n",
        "\n",
        "for i in range(0,len(results)):\n",
        "    if results[i] == \"Surrealism\":\n",
        "        count_su += 1\n",
        "        \n",
        "accuracy = count_su/len(results)\n",
        "print(accuracy)"
      ],
      "execution_count": 0,
      "outputs": [
        {
          "output_type": "stream",
          "text": [
            "Surrealism\n",
            "\n",
            "205\n",
            "0.8975609756097561\n"
          ],
          "name": "stdout"
        }
      ]
    },
    {
      "cell_type": "code",
      "metadata": {
        "id": "bSsODRJKubN4",
        "colab_type": "code",
        "outputId": "09562cab-2a45-4baa-cc8a-8082e11db623",
        "colab": {
          "base_uri": "https://localhost:8080/",
          "height": 35
        }
      },
      "source": [
        "final_accuracy = (count_im+count_ex+count_su)/(211+200+205)\n",
        "print(final_accuracy)"
      ],
      "execution_count": 0,
      "outputs": [
        {
          "output_type": "stream",
          "text": [
            "0.36363636363636365\n"
          ],
          "name": "stdout"
        }
      ]
    },
    {
      "cell_type": "code",
      "metadata": {
        "id": "zdw3tsLuvVQc",
        "colab_type": "code",
        "colab": {}
      },
      "source": [
        ""
      ],
      "execution_count": 0,
      "outputs": []
    }
  ]
}