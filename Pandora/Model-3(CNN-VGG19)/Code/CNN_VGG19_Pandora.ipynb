{
  "nbformat": 4,
  "nbformat_minor": 0,
  "metadata": {
    "colab": {
      "name": "CNN-VGG19-Pandora.ipynb",
      "version": "0.3.2",
      "provenance": [],
      "collapsed_sections": [
        "_8InNy_kStUA"
      ]
    },
    "kernelspec": {
      "name": "python3",
      "display_name": "Python 3"
    },
    "accelerator": "GPU"
  },
  "cells": [
    {
      "cell_type": "markdown",
      "metadata": {
        "id": "_8InNy_kStUA",
        "colab_type": "text"
      },
      "source": [
        "# Connect to Google Drive"
      ]
    },
    {
      "cell_type": "code",
      "metadata": {
        "id": "3Xaub7dKSU1q",
        "colab_type": "code",
        "outputId": "a3428dd0-9334-47ae-c67d-1795133776d5",
        "colab": {
          "base_uri": "https://localhost:8080/",
          "height": 224
        }
      },
      "source": [
        "#Step 1 part 1: connect to drive\n",
        "!apt-get install -y -qq software-properties-common python-software-properties module-init-tools\n",
        "!add-apt-repository -y ppa:alessandro-strada/ppa 2>&1 > /dev/null\n",
        "!apt-get update -qq 2>&1 > /dev/null\n",
        "!apt-get -y install -qq google-drive-ocamlfuse fuse\n",
        "from google.colab import auth\n",
        "auth.authenticate_user()\n",
        "from oauth2client.client import GoogleCredentials\n",
        "creds = GoogleCredentials.get_application_default()\n",
        "import getpass\n",
        "!google-drive-ocamlfuse -headless -id={creds.client_id} -secret={creds.client_secret} < /dev/null 2>&1 | grep URL\n",
        "vcode = getpass.getpass()\n",
        "!echo {vcode} | google-drive-ocamlfuse -headless -id={creds.client_id} -secret={creds.client_secret}"
      ],
      "execution_count": 0,
      "outputs": [
        {
          "output_type": "stream",
          "text": [
            "E: Package 'python-software-properties' has no installation candidate\n",
            "Selecting previously unselected package google-drive-ocamlfuse.\n",
            "(Reading database ... 130942 files and directories currently installed.)\n",
            "Preparing to unpack .../google-drive-ocamlfuse_0.7.4-0ubuntu1~ubuntu18.04.1_amd64.deb ...\n",
            "Unpacking google-drive-ocamlfuse (0.7.4-0ubuntu1~ubuntu18.04.1) ...\n",
            "Setting up google-drive-ocamlfuse (0.7.4-0ubuntu1~ubuntu18.04.1) ...\n",
            "Processing triggers for man-db (2.8.3-2ubuntu0.1) ...\n",
            "Please, open the following URL in a web browser: https://accounts.google.com/o/oauth2/auth?client_id=32555940559.apps.googleusercontent.com&redirect_uri=urn%3Aietf%3Awg%3Aoauth%3A2.0%3Aoob&scope=https%3A%2F%2Fwww.googleapis.com%2Fauth%2Fdrive&response_type=code&access_type=offline&approval_prompt=force\n",
            "··········\n",
            "Please, open the following URL in a web browser: https://accounts.google.com/o/oauth2/auth?client_id=32555940559.apps.googleusercontent.com&redirect_uri=urn%3Aietf%3Awg%3Aoauth%3A2.0%3Aoob&scope=https%3A%2F%2Fwww.googleapis.com%2Fauth%2Fdrive&response_type=code&access_type=offline&approval_prompt=force\n",
            "Please enter the verification code: Access token retrieved correctly.\n"
          ],
          "name": "stdout"
        }
      ]
    },
    {
      "cell_type": "code",
      "metadata": {
        "id": "4iSsTzjQS73x",
        "colab_type": "code",
        "colab": {}
      },
      "source": [
        "!mkdir -p drive\n",
        "!google-drive-ocamlfuse drive"
      ],
      "execution_count": 0,
      "outputs": []
    },
    {
      "cell_type": "markdown",
      "metadata": {
        "id": "IANi6ehcTcY2",
        "colab_type": "text"
      },
      "source": [
        "# Train the model"
      ]
    },
    {
      "cell_type": "code",
      "metadata": {
        "id": "HH4uWMNtTfe2",
        "colab_type": "code",
        "outputId": "3d109cd2-e908-4231-d686-df1b875d8701",
        "colab": {
          "base_uri": "https://localhost:8080/",
          "height": 34
        }
      },
      "source": [
        "import numpy as np\n",
        "import pandas as pd\n",
        "from random import sample\n",
        "import pickle, cv2\n",
        "\n",
        "from matplotlib.pyplot import imread\n",
        "import matplotlib.pyplot as plt\n",
        "\n",
        "import sklearn\n",
        "from skimage.transform import resize\n",
        "from sklearn.model_selection import train_test_split\n",
        "from sklearn.metrics import confusion_matrix\n",
        "from sklearn.utils.multiclass import unique_labels\n",
        "from sklearn.utils.multiclass import type_of_target\n",
        "from sklearn.metrics import precision_recall_fscore_support\n",
        "from sklearn.metrics import roc_curve, auc\n",
        "from sklearn.metrics import roc_auc_score\n",
        "import sklearn.metrics as metrics\n",
        "\n",
        "from keras import applications, optimizers\n",
        "from keras.models import Sequential, Model\n",
        "from keras.layers import Dropout, Flatten, Dense\n",
        "from keras.utils import np_utils\n",
        "from keras.models import model_from_json\n",
        "from keras.models import load_model\n",
        "from keras.utils import plot_model\n",
        "\n",
        "import json"
      ],
      "execution_count": 0,
      "outputs": [
        {
          "output_type": "stream",
          "text": [
            "Using TensorFlow backend.\n"
          ],
          "name": "stderr"
        }
      ]
    },
    {
      "cell_type": "code",
      "metadata": {
        "id": "fKrOuG4UTi1H",
        "colab_type": "code",
        "colab": {}
      },
      "source": [
        "def train_validation_split(x, y):\n",
        "    X_training, X_test, y_training, y_test = train_test_split(x, y, stratify=y, random_state=1337)\n",
        "    X_train, X_val, y_train, y_val = train_test_split(X_training, y_training, stratify=y_training, random_state=42)\n",
        "\n",
        "    return X_train, X_val, X_test, y_train, y_val, y_test"
      ],
      "execution_count": 0,
      "outputs": []
    },
    {
      "cell_type": "code",
      "metadata": {
        "id": "bkw1y1TZTmYU",
        "colab_type": "code",
        "colab": {}
      },
      "source": [
        "def one_hot(y_train, y_val, y_test, n_classes):\n",
        "    y_train = np_utils.to_categorical(y_train, n_classes)\n",
        "    y_val = np_utils.to_categorical(y_val, n_classes)\n",
        "    y_test = np_utils.to_categorical(y_test, n_classes)\n",
        "\n",
        "    return y_train, y_val, y_test"
      ],
      "execution_count": 0,
      "outputs": []
    },
    {
      "cell_type": "code",
      "metadata": {
        "id": "qr6-EHMWToKp",
        "colab_type": "code",
        "colab": {}
      },
      "source": [
        "def build_fit_save_cnn(input_shape, n_classes, epochs, batch_size, X_train, X_val, y_train, y_val):\n",
        "    base_model = applications.VGG16(weights='imagenet', include_top=False, input_shape=input_shape)\n",
        "\n",
        "    add_model = Sequential()\n",
        "    add_model.add(Flatten(input_shape=base_model.output_shape[1:]))\n",
        "    add_model.add(Dense(512, activation='relu'))\n",
        "    add_model.add(Dense(512, activation='relu'))\n",
        "    add_model.add(Dropout(0.25))\n",
        "    add_model.add(Dense(n_classes, activation='softmax'))\n",
        "\n",
        "    # combine base model and fully connected layers\n",
        "    final_model = Model(inputs=base_model.input, outputs=add_model(base_model.output))\n",
        "\n",
        "    # specify SDG optimizer parameters\n",
        "    sgd = optimizers.SGD(lr=0.001, decay=1e-6, momentum=0.9, nesterov=True)\n",
        "\n",
        "    # compile model\n",
        "    final_model.compile(loss='categorical_crossentropy', optimizer=sgd, metrics=['accuracy'])\n",
        "\n",
        "    history = final_model.fit(X_train, y_train, batch_size=batch_size, epochs=epochs, verbose=1, validation_data=(X_val, y_val))\n",
        "\n",
        "    score = final_model.evaluate(X_val, y_val, verbose=0)\n",
        "    print('Val. score:', score[0])\n",
        "    print('Val. accuracy:', score[1])\n",
        "    \n",
        "    plot_model(final_model, to_file='drive/ML-Pandora/CNN-VGG19-Pandora-Model.svg')\n",
        "    show_history(history)\n",
        "    save_model(final_model,history)\n",
        "\n",
        "    return final_model"
      ],
      "execution_count": 0,
      "outputs": []
    },
    {
      "cell_type": "code",
      "metadata": {
        "id": "B8Q87w-GUgY_",
        "colab_type": "code",
        "colab": {}
      },
      "source": [
        "def test_predict_score(model, X_test, y_test):\n",
        "    score = model.evaluate(X_test, y_test, verbose=0)\n",
        "    test_pred = model.predict(X_test)\n",
        "\n",
        "    print('Test score:', score[0])\n",
        "    print('Test accuracy:', score[1])\n",
        "\n",
        "    return test_pred, score"
      ],
      "execution_count": 0,
      "outputs": []
    },
    {
      "cell_type": "code",
      "metadata": {
        "id": "9r_4vxokUi11",
        "colab_type": "code",
        "colab": {}
      },
      "source": [
        "def save_model(model,history):\n",
        "    \n",
        "    open('drive/ML-Pandora/Saved_models/CNN-VGG19-Pandora.json', 'w').close()\n",
        "    open('drive/ML-Pandora/Saved_models/CNN-VGG19-Pandora-weights.h5', 'w').close()\n",
        "    \n",
        "    model_json = model.to_json()\n",
        "    with open('drive/ML-Pandora/Saved_models/CNN-VGG19-Pandora.json', 'w') as json_file:\n",
        "        json_file.write(model_json)\n",
        "\n",
        "    model.save_weights('drive/ML-Pandora/Saved_models/CNN-VGG19-Pandora-weights.h5')\n",
        "    print('Model saved to disk!')\n",
        "    \n",
        "    with open('drive/ML-Pandora/Data/CNN-VGG19-Pandora-History.json', 'w') as f:\n",
        "        json.dump(history.history, f)\n",
        "    print('History saved to disk!')"
      ],
      "execution_count": 0,
      "outputs": []
    },
    {
      "cell_type": "code",
      "metadata": {
        "id": "urkCpoj0U6s1",
        "colab_type": "code",
        "colab": {}
      },
      "source": [
        "def show_history(history):\n",
        "    print(history.history.keys())\n",
        "\n",
        "    plt.plot(history.history['acc'])\n",
        "    plt.plot(history.history['val_acc'])\n",
        "    plt.title('model accuracy')\n",
        "    plt.ylabel('accuracy')\n",
        "    plt.xlabel('epoch')\n",
        "    plt.legend(['train', 'test'], loc='upper left')\n",
        "    plt.show()\n",
        "\n",
        "    plt.plot(history.history['loss'])\n",
        "    plt.plot(history.history['val_loss'])\n",
        "    plt.title('model loss')\n",
        "    plt.ylabel('loss')\n",
        "    plt.xlabel('epoch')\n",
        "    plt.legend(['train', 'test'], loc='upper left')\n",
        "    plt.show()"
      ],
      "execution_count": 0,
      "outputs": []
    },
    {
      "cell_type": "code",
      "metadata": {
        "id": "xTTjAGZD-sth",
        "colab_type": "code",
        "colab": {}
      },
      "source": [
        "def plot_confusion_matrix(y_true, y_pred, classes, normalize=False, title=None, cmap=plt.cm.Blues):\n",
        "    if not title:\n",
        "        if normalize:\n",
        "            title = 'Normalized confusion matrix'\n",
        "        else:\n",
        "            title = 'Confusion matrix, without normalization'\n",
        "\n",
        "    cm = confusion_matrix(y_true, y_pred)\n",
        "#     classes = classes[unique_labels(y_true, y_pred)]\n",
        "    \n",
        "    if normalize:\n",
        "        cm = cm.astype('float') / cm.sum(axis=1)[:, np.newaxis]\n",
        "        print(\"Normalized confusion matrix\")\n",
        "    else:\n",
        "        print('Confusion matrix, without normalization')\n",
        "\n",
        "    print(cm)\n",
        "\n",
        "    fig, ax = plt.subplots()\n",
        "    im = ax.imshow(cm, interpolation='nearest', cmap=cmap)\n",
        "\n",
        "    ax.figure.colorbar(im, ax=ax)\n",
        "    ax.set(xticks=np.arange(cm.shape[1]), yticks=np.arange(cm.shape[0]), xticklabels=classes, yticklabels=classes, title=title, \n",
        "           ylabel='True label',\n",
        "           xlabel='Predicted label')\n",
        "\n",
        "    plt.setp(ax.get_xticklabels(), rotation=45, ha=\"right\", rotation_mode=\"anchor\")\n",
        "\n",
        "    fmt = '.2f' if normalize else 'd'\n",
        "    thresh = cm.max() / 2.\n",
        "    \n",
        "    for i in range(cm.shape[0]):\n",
        "        for j in range(cm.shape[1]):\n",
        "            ax.text(j, i, format(cm[i, j], fmt),\n",
        "                    ha=\"center\", va=\"center\",\n",
        "                    color=\"white\" if cm[i, j] > thresh else \"black\")\n",
        "    \n",
        "    fig.tight_layout()\n",
        "    return ax"
      ],
      "execution_count": 0,
      "outputs": []
    },
    {
      "cell_type": "code",
      "metadata": {
        "id": "ArnrcIkPU9NL",
        "colab_type": "code",
        "outputId": "d41d38a6-f51c-461d-b57b-d44036d1079b",
        "colab": {
          "base_uri": "https://localhost:8080/",
          "height": 1460
        }
      },
      "source": [
        "seed = 1337\n",
        "np.random.seed(seed)\n",
        "\n",
        "epochs = 10\n",
        "batch_size = 25\n",
        "input_shape = (224,224,3)\n",
        "\n",
        "data = np.load('drive/ML-Pandora/Data/images_labels_224.npz')\n",
        "x = data['x']\n",
        "y = data['y']\n",
        "n_classes = len(np.unique(y))\n",
        "\n",
        "X_train, X_val, X_test, y_train, y_val, y_test = train_validation_split(x, y)\n",
        "y_train, y_val, y_test = one_hot(y_train, y_val, y_test, n_classes)\n",
        "final_model = build_fit_save_cnn(input_shape, n_classes, epochs, batch_size, X_train, X_val, y_train, y_val)\n",
        "test_pred, score = test_predict_score(final_model, X_test, y_test)"
      ],
      "execution_count": 0,
      "outputs": [
        {
          "output_type": "stream",
          "text": [
            "WARNING: Logging before flag parsing goes to stderr.\n",
            "W0622 11:39:29.358171 139757733566336 deprecation_wrapper.py:119] From /usr/local/lib/python3.6/dist-packages/keras/backend/tensorflow_backend.py:74: The name tf.get_default_graph is deprecated. Please use tf.compat.v1.get_default_graph instead.\n",
            "\n",
            "W0622 11:39:29.388517 139757733566336 deprecation_wrapper.py:119] From /usr/local/lib/python3.6/dist-packages/keras/backend/tensorflow_backend.py:517: The name tf.placeholder is deprecated. Please use tf.compat.v1.placeholder instead.\n",
            "\n",
            "W0622 11:39:29.397340 139757733566336 deprecation_wrapper.py:119] From /usr/local/lib/python3.6/dist-packages/keras/backend/tensorflow_backend.py:4138: The name tf.random_uniform is deprecated. Please use tf.random.uniform instead.\n",
            "\n",
            "W0622 11:39:29.436760 139757733566336 deprecation_wrapper.py:119] From /usr/local/lib/python3.6/dist-packages/keras/backend/tensorflow_backend.py:3976: The name tf.nn.max_pool is deprecated. Please use tf.nn.max_pool2d instead.\n",
            "\n"
          ],
          "name": "stderr"
        },
        {
          "output_type": "stream",
          "text": [
            "Downloading data from https://github.com/fchollet/deep-learning-models/releases/download/v0.1/vgg16_weights_tf_dim_ordering_tf_kernels_notop.h5\n",
            "58892288/58889256 [==============================] - 1s 0us/step\n"
          ],
          "name": "stdout"
        },
        {
          "output_type": "stream",
          "text": [
            "W0622 11:39:30.944705 139757733566336 deprecation_wrapper.py:119] From /usr/local/lib/python3.6/dist-packages/keras/backend/tensorflow_backend.py:174: The name tf.get_default_session is deprecated. Please use tf.compat.v1.get_default_session instead.\n",
            "\n",
            "W0622 11:39:30.946095 139757733566336 deprecation_wrapper.py:119] From /usr/local/lib/python3.6/dist-packages/keras/backend/tensorflow_backend.py:181: The name tf.ConfigProto is deprecated. Please use tf.compat.v1.ConfigProto instead.\n",
            "\n",
            "W0622 11:39:34.049722 139757733566336 deprecation.py:506] From /usr/local/lib/python3.6/dist-packages/keras/backend/tensorflow_backend.py:3445: calling dropout (from tensorflow.python.ops.nn_ops) with keep_prob is deprecated and will be removed in a future version.\n",
            "Instructions for updating:\n",
            "Please use `rate` instead of `keep_prob`. Rate should be set to `rate = 1 - keep_prob`.\n",
            "W0622 11:39:34.128838 139757733566336 deprecation_wrapper.py:119] From /usr/local/lib/python3.6/dist-packages/keras/optimizers.py:790: The name tf.train.Optimizer is deprecated. Please use tf.compat.v1.train.Optimizer instead.\n",
            "\n",
            "W0622 11:39:34.237989 139757733566336 deprecation.py:323] From /usr/local/lib/python3.6/dist-packages/tensorflow/python/ops/math_grad.py:1250: add_dispatch_support.<locals>.wrapper (from tensorflow.python.ops.array_ops) is deprecated and will be removed in a future version.\n",
            "Instructions for updating:\n",
            "Use tf.where in 2.0, which has the same broadcast rule as np.where\n"
          ],
          "name": "stderr"
        },
        {
          "output_type": "stream",
          "text": [
            "Train on 671 samples, validate on 224 samples\n",
            "Epoch 1/10\n",
            "671/671 [==============================] - 28s 42ms/step - loss: 1.0730 - acc: 0.4307 - val_loss: 0.8500 - val_acc: 0.6116\n",
            "Epoch 2/10\n",
            "671/671 [==============================] - 11s 17ms/step - loss: 0.8689 - acc: 0.6021 - val_loss: 0.7246 - val_acc: 0.6786\n",
            "Epoch 3/10\n",
            "671/671 [==============================] - 11s 17ms/step - loss: 0.7046 - acc: 0.6870 - val_loss: 0.8645 - val_acc: 0.5982\n",
            "Epoch 4/10\n",
            "671/671 [==============================] - 12s 17ms/step - loss: 0.4530 - acc: 0.8241 - val_loss: 0.7363 - val_acc: 0.6741\n",
            "Epoch 5/10\n",
            "671/671 [==============================] - 12s 18ms/step - loss: 0.3054 - acc: 0.8852 - val_loss: 0.7612 - val_acc: 0.7009\n",
            "Epoch 6/10\n",
            "671/671 [==============================] - 12s 18ms/step - loss: 0.1595 - acc: 0.9478 - val_loss: 0.7481 - val_acc: 0.7545\n",
            "Epoch 7/10\n",
            "671/671 [==============================] - 12s 18ms/step - loss: 0.2012 - acc: 0.9270 - val_loss: 0.8672 - val_acc: 0.7009\n",
            "Epoch 8/10\n",
            "671/671 [==============================] - 12s 19ms/step - loss: 0.0621 - acc: 0.9851 - val_loss: 1.2401 - val_acc: 0.6920\n",
            "Epoch 9/10\n",
            "671/671 [==============================] - 12s 18ms/step - loss: 0.0302 - acc: 0.9940 - val_loss: 0.8517 - val_acc: 0.7054\n",
            "Epoch 10/10\n",
            "671/671 [==============================] - 12s 18ms/step - loss: 0.0368 - acc: 0.9911 - val_loss: 1.0070 - val_acc: 0.6964\n",
            "Val. score: 1.0070246372904097\n",
            "Val. accuracy: 0.6964285714285714\n",
            "dict_keys(['val_loss', 'val_acc', 'loss', 'acc'])\n"
          ],
          "name": "stdout"
        },
        {
          "output_type": "display_data",
          "data": {
            "image/png": "[encoded data removed]",
            "text/plain": [
              "<Figure size 432x288 with 1 Axes>"
            ]
          },
          "metadata": {
            "tags": []
          }
        },
        {
          "output_type": "display_data",
          "data": {
            "image/png": "[encoded data removed]",
            "text/plain": [
              "<Figure size 432x288 with 1 Axes>"
            ]
          },
          "metadata": {
            "tags": []
          }
        },
        {
          "output_type": "stream",
          "text": [
            "Model saved to disk!\n",
            "History saved to disk!\n",
            "Test score: 1.452893661017402\n",
            "Test accuracy: 0.6254180609980554\n"
          ],
          "name": "stdout"
        }
      ]
    },
    {
      "cell_type": "code",
      "metadata": {
        "id": "3kv7zkwJ-w2e",
        "colab_type": "code",
        "outputId": "fc36f5c2-a0ab-49e2-cc61-4328a8d4bee2",
        "colab": {
          "base_uri": "https://localhost:8080/",
          "height": 1053
        }
      },
      "source": [
        "class_names = [\"Impressionism\", \"Expressionism\", \"Surrealism\"]\n",
        "\n",
        "y_pred = np.argmax(test_pred, axis=1)\n",
        "y_test_ = np.argmax(y_test, axis=1)\n",
        "\n",
        "print(type_of_target(y_pred))\n",
        "print(type_of_target(y_test_))\n",
        "\n",
        "print(y_pred,y_test_)\n",
        "print(len(y_pred),len(y_test_))\n",
        "    \n",
        "\n",
        "plot_confusion_matrix(y_test_, y_pred, classes=class_names, title='Confusion matrix, without normalization')\n",
        "plot_confusion_matrix(y_test_, y_pred, classes=class_names, normalize=True, title='Normalized confusion matrix')\n",
        "\n",
        "plt.show()"
      ],
      "execution_count": 0,
      "outputs": [
        {
          "output_type": "stream",
          "text": [
            "multiclass\n",
            "multiclass\n",
            "[1 1 2 1 1 0 2 2 0 0 0 0 1 2 2 0 0 0 2 1 0 1 2 0 1 0 0 0 2 0 2 1 0 0 2 0 1\n",
            " 0 0 1 1 0 0 2 0 0 0 2 0 0 0 0 1 1 0 2 1 1 1 1 1 2 0 1 0 2 2 1 1 0 0 2 0 2\n",
            " 1 2 2 2 1 0 0 2 2 0 1 1 0 0 0 1 1 0 0 0 0 0 1 1 2 0 2 2 1 0 1 2 0 1 0 0 2\n",
            " 1 0 1 0 0 2 2 0 2 0 1 1 0 2 1 0 0 0 0 2 2 2 1 0 2 1 0 0 0 2 0 1 0 1 1 2 2\n",
            " 1 1 1 2 2 1 0 1 1 0 1 1 2 2 2 0 2 1 0 0 1 0 0 2 1 2 1 1 1 1 1 0 1 0 1 1 1\n",
            " 2 2 0 1 1 2 2 1 2 0 0 0 1 0 1 2 0 1 0 0 2 1 2 2 2 0 2 0 0 1 2 2 2 1 1 1 2\n",
            " 0 2 0 0 0 2 0 0 2 2 0 0 0 0 2 0 1 2 0 0 0 0 0 0 2 2 2 0 0 0 0 1 0 0 0 0 0\n",
            " 0 2 2 2 1 1 0 0 0 0 2 2 2 1 0 0 2 1 2 0 2 1 0 1 0 1 2 0 0 1 0 2 0 0 0 2 2\n",
            " 1 0 0] [1 1 2 2 1 2 0 2 0 0 2 1 1 2 0 1 1 0 2 0 0 1 0 2 1 0 0 2 2 2 2 1 0 1 2 0 0\n",
            " 1 1 1 1 0 2 0 0 2 1 2 1 0 1 0 0 0 1 2 1 1 0 0 0 2 0 2 1 2 0 2 1 0 1 2 1 2\n",
            " 1 2 2 0 0 0 1 2 2 2 1 1 0 0 0 1 1 0 0 0 1 1 1 1 0 2 2 0 2 1 1 0 1 1 0 2 2\n",
            " 1 0 0 1 0 0 0 1 2 0 1 1 2 2 1 1 0 0 0 2 0 2 1 0 2 0 0 0 1 2 2 1 0 0 0 2 2\n",
            " 1 1 0 2 0 1 0 1 1 0 1 1 2 2 2 0 0 0 0 2 2 1 0 2 1 2 1 1 1 1 0 0 1 0 1 1 1\n",
            " 2 2 1 0 1 2 2 0 2 0 2 2 1 1 1 0 1 1 1 0 2 1 2 2 2 2 0 0 0 1 2 2 2 1 1 1 2\n",
            " 2 2 1 1 1 2 2 0 2 2 0 2 1 0 2 2 1 2 0 2 0 2 0 2 2 2 2 1 0 1 1 1 2 0 0 2 1\n",
            " 0 0 0 2 1 1 0 1 2 2 2 2 2 1 0 1 2 1 2 1 0 1 1 1 0 0 2 0 2 1 0 2 0 0 0 2 0\n",
            " 2 0 2]\n",
            "299 299\n",
            "Confusion matrix, without normalization\n",
            "[[62 18 20]\n",
            " [39 61  0]\n",
            " [29  6 64]]\n",
            "Normalized confusion matrix\n",
            "[[0.62       0.18       0.2       ]\n",
            " [0.39       0.61       0.        ]\n",
            " [0.29292929 0.06060606 0.64646465]]\n"
          ],
          "name": "stdout"
        },
        {
          "output_type": "display_data",
          "data": {
            "image/png": "[encoded data removed]",
            "text/plain": [
              "<Figure size 432x288 with 2 Axes>"
            ]
          },
          "metadata": {
            "tags": []
          }
        },
        {
          "output_type": "display_data",
          "data": {
            "image/png": "[encoded data removed]",
            "text/plain": [
              "<Figure size 432x288 with 2 Axes>"
            ]
          },
          "metadata": {
            "tags": []
          }
        }
      ]
    },
    {
      "cell_type": "code",
      "metadata": {
        "id": "GdiDIIY8-zIm",
        "colab_type": "code",
        "outputId": "58b7bd29-9232-45b0-f98e-a8175b7aa18f",
        "colab": {
          "base_uri": "https://localhost:8080/",
          "height": 34
        }
      },
      "source": [
        "precision_recall_fscore_support(y_test_, y_pred, average='macro')"
      ],
      "execution_count": 0,
      "outputs": [
        {
          "output_type": "execute_result",
          "data": {
            "text/plain": [
              "(0.6521582992171228, 0.6254882154882155, 0.6326811487182121, None)"
            ]
          },
          "metadata": {
            "tags": []
          },
          "execution_count": 13
        }
      ]
    },
    {
      "cell_type": "markdown",
      "metadata": {
        "id": "ddbbyfHLVitj",
        "colab_type": "text"
      },
      "source": [
        "# Predict"
      ]
    },
    {
      "cell_type": "code",
      "metadata": {
        "id": "qrY3Xa74VkP9",
        "colab_type": "code",
        "colab": {}
      },
      "source": [
        "import numpy as np\n",
        "from sys import argv\n",
        "from matplotlib.pyplot import imread\n",
        "import matplotlib.pyplot as plt\n",
        "from skimage.transform import resize\n",
        "import pickle, cv2\n",
        "from keras import optimizers\n",
        "from keras.models import load_model\n",
        "from keras.models import model_from_json"
      ],
      "execution_count": 0,
      "outputs": []
    },
    {
      "cell_type": "code",
      "metadata": {
        "id": "rgL8qlXMVpSd",
        "colab_type": "code",
        "colab": {}
      },
      "source": [
        "def load_model():\n",
        "    json_file = open('drive/ML-Pandora/Saved_models/CNN-VGG19-Pandora.json', 'r')\n",
        "    loaded_model_json = json_file.read()\n",
        "    json_file.close()\n",
        "\n",
        "    loaded_model = model_from_json(loaded_model_json)\n",
        "    loaded_model.load_weights('drive/ML-Pandora/Saved_models/CNN-VGG19-Pandora-weights.h5')\n",
        "\n",
        "    sgd = optimizers.SGD(lr=0.001, decay=1e-6, momentum=0.9, nesterov=True)\n",
        "    loaded_model.compile(loss='categorical_crossentropy', optimizer=sgd, metrics=['accuracy'])\n",
        "\n",
        "    return loaded_model\n"
      ],
      "execution_count": 0,
      "outputs": []
    },
    {
      "cell_type": "code",
      "metadata": {
        "id": "k7GWHQzYVvkr",
        "colab_type": "code",
        "colab": {}
      },
      "source": [
        "def make_prediction(img_path):\n",
        "    model = load_model()\n",
        "\n",
        "    with open('drive/ML-Pandora/Data/class_dict.pkl', 'rb') as f:\n",
        "        class_dict = pickle.load(f)\n",
        "\n",
        "    image = cv2.imread(img_path, 1)\n",
        "    image = prepare_image(image)\n",
        "    images = []\n",
        "    images.append(image)\n",
        "    images = np.array(images)\n",
        "    image_size = 224\n",
        "    n_channels = 3\n",
        "    X_batch = images.reshape(1, image_size, image_size, n_channels)\n",
        "\n",
        "    preds = model.predict(X_batch)\n",
        "\n",
        "    top_3 = np.argpartition(preds[0], -3)[-3:]\n",
        "    top_3 = reversed(top_3[np.argsort(preds[0][top_3])])\n",
        "    print('Top 3 Predictions:')\n",
        "    print('------------------')\n",
        "    for i in top_3:\n",
        "        print('{0}: {1:.2f}%'.format(class_dict[i], 100 * preds[0][i]))\n"
      ],
      "execution_count": 0,
      "outputs": []
    },
    {
      "cell_type": "code",
      "metadata": {
        "id": "jxQRhGFLV0HU",
        "colab_type": "code",
        "colab": {}
      },
      "source": [
        "def prepare_image(image, target_width=224, target_height=224, max_zoom=0.2):\n",
        "    height = image.shape[0]\n",
        "    width = image.shape[1]\n",
        "    image_ratio = width / height\n",
        "    target_image_ratio = target_width / target_height\n",
        "    crop_vertically = image_ratio < target_image_ratio\n",
        "    crop_width = width if crop_vertically else int(height * target_image_ratio)\n",
        "    crop_height = int(width / target_image_ratio) if crop_vertically else height\n",
        "\n",
        "    resize_factor = np.random.rand() * max_zoom + 1.0\n",
        "    crop_width = int(crop_width / resize_factor)\n",
        "    crop_height = int(crop_height / resize_factor)\n",
        "\n",
        "    x0 = np.random.randint(0, width - crop_width)\n",
        "    y0 = np.random.randint(0, height - crop_height)\n",
        "    x1 = x0 + crop_width\n",
        "    y1 = y0 + crop_height\n",
        "\n",
        "    image = image[y0:y1, x0:x1]\n",
        "    image = cv2.resize(image, (target_width, target_height))\n",
        "\n",
        "    return image.astype(np.float32) / 255"
      ],
      "execution_count": 0,
      "outputs": []
    },
    {
      "cell_type": "code",
      "metadata": {
        "id": "2he4MgHnV07s",
        "colab_type": "code",
        "outputId": "86025643-b94b-4dc1-d473-88dd1cd55ecd",
        "colab": {
          "base_uri": "https://localhost:8080/",
          "height": 102
        }
      },
      "source": [
        "if __name__ == '__main__':\n",
        "    img_path = \"drive/ML-Pandora/img/zaandam.jpg\"\n",
        "    make_prediction(img_path)"
      ],
      "execution_count": 0,
      "outputs": [
        {
          "output_type": "stream",
          "text": [
            "Top 3 Predictions:\n",
            "------------------\n",
            "Impressionism: 99.80%\n",
            "Expressionism: 0.18%\n",
            "Surrealism: 0.02%\n"
          ],
          "name": "stdout"
        }
      ]
    }
  ]
}